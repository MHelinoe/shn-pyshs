{
 "cells": [
  {
   "cell_type": "markdown",
   "metadata": {},
   "source": [
    "# Chapitre 6 : Statistiques descriptives et inférentielles"
   ]
  },
  {
   "cell_type": "markdown",
   "metadata": {},
   "source": [
    "### Importer les données"
   ]
  },
  {
   "cell_type": "code",
   "execution_count": 1,
   "metadata": {
    "tags": []
   },
   "outputs": [],
   "source": [
    "import pandas as pd\n",
    "%matplotlib inline"
   ]
  },
  {
   "cell_type": "code",
   "execution_count": null,
   "metadata": {
    "tags": []
   },
   "outputs": [],
   "source": [
    "tableau = pd.read_excel(\"data/base-pop-2015-communes.xls\")\n",
    "print(tableau.shape)"
   ]
  },
  {
   "cell_type": "code",
   "execution_count": 5,
   "metadata": {},
   "outputs": [],
   "source": [
    "tableau.to_csv(\"donnees/base-pop-2015-communes.csv\")"
   ]
  },
  {
   "cell_type": "code",
   "execution_count": 3,
   "metadata": {
    "execution": {
     "iopub.execute_input": "2020-12-22T18:31:39.351147Z",
     "iopub.status.busy": "2020-12-22T18:31:39.350083Z",
     "iopub.status.idle": "2020-12-22T18:31:39.864135Z",
     "shell.execute_reply": "2020-12-22T18:31:39.876062Z"
    }
   },
   "outputs": [
    {
     "name": "stdout",
     "output_type": "stream",
     "text": [
      "Toutes les données :  (35399, 109)\n",
      "Sans les valeurs manquantes :  (35399, 109)\n"
     ]
    }
   ],
   "source": [
    "print(\"Toutes les données : \",tableau.shape)\n",
    "print(\"Sans les valeurs manquantes : \",tableau.dropna().shape)"
   ]
  },
  {
   "cell_type": "code",
   "execution_count": 3,
   "metadata": {},
   "outputs": [
    {
     "data": {
      "text/html": [
       "<div>\n",
       "<style scoped>\n",
       "    .dataframe tbody tr th:only-of-type {\n",
       "        vertical-align: middle;\n",
       "    }\n",
       "\n",
       "    .dataframe tbody tr th {\n",
       "        vertical-align: top;\n",
       "    }\n",
       "\n",
       "    .dataframe thead th {\n",
       "        text-align: right;\n",
       "    }\n",
       "</style>\n",
       "<table border=\"1\" class=\"dataframe\">\n",
       "  <thead>\n",
       "    <tr style=\"text-align: right;\">\n",
       "      <th></th>\n",
       "      <th>CODGEO</th>\n",
       "      <th>REG</th>\n",
       "      <th>DEP</th>\n",
       "      <th>LIBGEO</th>\n",
       "      <th>P15_POP</th>\n",
       "      <th>P15_POP0014</th>\n",
       "      <th>P15_POP1529</th>\n",
       "      <th>P15_POP3044</th>\n",
       "      <th>P15_POP4559</th>\n",
       "      <th>P15_POP6074</th>\n",
       "      <th>...</th>\n",
       "      <th>C15_POP2554_CS8</th>\n",
       "      <th>C15_POP55P</th>\n",
       "      <th>C15_POP55P_CS1</th>\n",
       "      <th>C15_POP55P_CS2</th>\n",
       "      <th>C15_POP55P_CS3</th>\n",
       "      <th>C15_POP55P_CS4</th>\n",
       "      <th>C15_POP55P_CS5</th>\n",
       "      <th>C15_POP55P_CS6</th>\n",
       "      <th>C15_POP55P_CS7</th>\n",
       "      <th>C15_POP55P_CS8</th>\n",
       "    </tr>\n",
       "  </thead>\n",
       "  <tbody>\n",
       "    <tr>\n",
       "      <th>0</th>\n",
       "      <td>01001</td>\n",
       "      <td>84</td>\n",
       "      <td>01</td>\n",
       "      <td>L'Abergement-Clémenciat</td>\n",
       "      <td>767.0</td>\n",
       "      <td>161.000000</td>\n",
       "      <td>102.000000</td>\n",
       "      <td>132.000000</td>\n",
       "      <td>189.000000</td>\n",
       "      <td>125.000000</td>\n",
       "      <td>...</td>\n",
       "      <td>0.000000</td>\n",
       "      <td>240.000000</td>\n",
       "      <td>10.0</td>\n",
       "      <td>0.00000</td>\n",
       "      <td>25.000000</td>\n",
       "      <td>40.000000</td>\n",
       "      <td>5.000000</td>\n",
       "      <td>10.000000</td>\n",
       "      <td>140.000000</td>\n",
       "      <td>10.000000</td>\n",
       "    </tr>\n",
       "    <tr>\n",
       "      <th>1</th>\n",
       "      <td>01002</td>\n",
       "      <td>84</td>\n",
       "      <td>01</td>\n",
       "      <td>L'Abergement-de-Varey</td>\n",
       "      <td>241.0</td>\n",
       "      <td>54.547325</td>\n",
       "      <td>27.769547</td>\n",
       "      <td>69.423868</td>\n",
       "      <td>36.695473</td>\n",
       "      <td>33.720165</td>\n",
       "      <td>...</td>\n",
       "      <td>0.000000</td>\n",
       "      <td>79.341564</td>\n",
       "      <td>0.0</td>\n",
       "      <td>0.00000</td>\n",
       "      <td>0.000000</td>\n",
       "      <td>4.958848</td>\n",
       "      <td>9.917695</td>\n",
       "      <td>0.000000</td>\n",
       "      <td>64.465021</td>\n",
       "      <td>0.000000</td>\n",
       "    </tr>\n",
       "    <tr>\n",
       "      <th>2</th>\n",
       "      <td>01004</td>\n",
       "      <td>84</td>\n",
       "      <td>01</td>\n",
       "      <td>Ambérieu-en-Bugey</td>\n",
       "      <td>14127.0</td>\n",
       "      <td>2782.055722</td>\n",
       "      <td>2947.054160</td>\n",
       "      <td>2645.830334</td>\n",
       "      <td>2638.848766</td>\n",
       "      <td>1904.570689</td>\n",
       "      <td>...</td>\n",
       "      <td>594.022646</td>\n",
       "      <td>3990.102307</td>\n",
       "      <td>0.0</td>\n",
       "      <td>65.40159</td>\n",
       "      <td>120.434414</td>\n",
       "      <td>235.083852</td>\n",
       "      <td>233.942615</td>\n",
       "      <td>226.430007</td>\n",
       "      <td>2864.225693</td>\n",
       "      <td>244.584135</td>\n",
       "    </tr>\n",
       "    <tr>\n",
       "      <th>3</th>\n",
       "      <td>01005</td>\n",
       "      <td>84</td>\n",
       "      <td>01</td>\n",
       "      <td>Ambérieux-en-Dombes</td>\n",
       "      <td>1619.0</td>\n",
       "      <td>334.000000</td>\n",
       "      <td>250.000000</td>\n",
       "      <td>321.000000</td>\n",
       "      <td>374.000000</td>\n",
       "      <td>231.000000</td>\n",
       "      <td>...</td>\n",
       "      <td>30.000000</td>\n",
       "      <td>445.000000</td>\n",
       "      <td>0.0</td>\n",
       "      <td>5.00000</td>\n",
       "      <td>25.000000</td>\n",
       "      <td>20.000000</td>\n",
       "      <td>25.000000</td>\n",
       "      <td>30.000000</td>\n",
       "      <td>310.000000</td>\n",
       "      <td>30.000000</td>\n",
       "    </tr>\n",
       "    <tr>\n",
       "      <th>4</th>\n",
       "      <td>01006</td>\n",
       "      <td>84</td>\n",
       "      <td>01</td>\n",
       "      <td>Ambléon</td>\n",
       "      <td>109.0</td>\n",
       "      <td>11.890909</td>\n",
       "      <td>15.854545</td>\n",
       "      <td>14.863636</td>\n",
       "      <td>28.736364</td>\n",
       "      <td>26.754545</td>\n",
       "      <td>...</td>\n",
       "      <td>0.000000</td>\n",
       "      <td>29.727273</td>\n",
       "      <td>0.0</td>\n",
       "      <td>0.00000</td>\n",
       "      <td>4.954545</td>\n",
       "      <td>0.000000</td>\n",
       "      <td>0.000000</td>\n",
       "      <td>0.000000</td>\n",
       "      <td>24.772727</td>\n",
       "      <td>0.000000</td>\n",
       "    </tr>\n",
       "  </tbody>\n",
       "</table>\n",
       "<p>5 rows × 108 columns</p>\n",
       "</div>"
      ],
      "text/plain": [
       "  CODGEO  REG DEP                   LIBGEO  P15_POP  P15_POP0014  P15_POP1529  \\\n",
       "0  01001   84  01  L'Abergement-Clémenciat    767.0   161.000000   102.000000   \n",
       "1  01002   84  01    L'Abergement-de-Varey    241.0    54.547325    27.769547   \n",
       "2  01004   84  01        Ambérieu-en-Bugey  14127.0  2782.055722  2947.054160   \n",
       "3  01005   84  01      Ambérieux-en-Dombes   1619.0   334.000000   250.000000   \n",
       "4  01006   84  01                  Ambléon    109.0    11.890909    15.854545   \n",
       "\n",
       "   P15_POP3044  P15_POP4559  P15_POP6074  ...  C15_POP2554_CS8   C15_POP55P  \\\n",
       "0   132.000000   189.000000   125.000000  ...         0.000000   240.000000   \n",
       "1    69.423868    36.695473    33.720165  ...         0.000000    79.341564   \n",
       "2  2645.830334  2638.848766  1904.570689  ...       594.022646  3990.102307   \n",
       "3   321.000000   374.000000   231.000000  ...        30.000000   445.000000   \n",
       "4    14.863636    28.736364    26.754545  ...         0.000000    29.727273   \n",
       "\n",
       "   C15_POP55P_CS1  C15_POP55P_CS2  C15_POP55P_CS3  C15_POP55P_CS4  \\\n",
       "0            10.0         0.00000       25.000000       40.000000   \n",
       "1             0.0         0.00000        0.000000        4.958848   \n",
       "2             0.0        65.40159      120.434414      235.083852   \n",
       "3             0.0         5.00000       25.000000       20.000000   \n",
       "4             0.0         0.00000        4.954545        0.000000   \n",
       "\n",
       "   C15_POP55P_CS5  C15_POP55P_CS6  C15_POP55P_CS7  C15_POP55P_CS8  \n",
       "0        5.000000       10.000000      140.000000       10.000000  \n",
       "1        9.917695        0.000000       64.465021        0.000000  \n",
       "2      233.942615      226.430007     2864.225693      244.584135  \n",
       "3       25.000000       30.000000      310.000000       30.000000  \n",
       "4        0.000000        0.000000       24.772727        0.000000  \n",
       "\n",
       "[5 rows x 108 columns]"
      ]
     },
     "execution_count": 3,
     "metadata": {},
     "output_type": "execute_result"
    }
   ],
   "source": [
    "tableau.head()"
   ]
  },
  {
   "cell_type": "code",
   "execution_count": 6,
   "metadata": {},
   "outputs": [],
   "source": [
    "lc = [c for c in tableau.columns]"
   ]
  },
  {
   "cell_type": "code",
   "execution_count": 10,
   "metadata": {
    "scrolled": true,
    "tags": []
   },
   "outputs": [
    {
     "name": "stdout",
     "output_type": "stream",
     "text": [
      "108\n"
     ]
    },
    {
     "data": {
      "text/plain": [
       "['CODGEO',\n",
       " 'REG',\n",
       " 'DEP',\n",
       " 'LIBGEO',\n",
       " 'P15_POP',\n",
       " 'P15_POP0014',\n",
       " 'P15_POP1529',\n",
       " 'P15_POP3044',\n",
       " 'P15_POP4559',\n",
       " 'P15_POP6074',\n",
       " 'P15_POP7589',\n",
       " 'P15_POP90P',\n",
       " 'P15_POPH',\n",
       " 'P15_H0014',\n",
       " 'P15_H1529',\n",
       " 'P15_H3044',\n",
       " 'P15_H4559',\n",
       " 'P15_H6074',\n",
       " 'P15_H7589',\n",
       " 'P15_H90P',\n",
       " 'P15_H0019',\n",
       " 'P15_H2064',\n",
       " 'P15_H65P',\n",
       " 'P15_POPF',\n",
       " 'P15_F0014',\n",
       " 'P15_F1529',\n",
       " 'P15_F3044',\n",
       " 'P15_F4559',\n",
       " 'P15_F6074',\n",
       " 'P15_F7589',\n",
       " 'P15_F90P',\n",
       " 'P15_F0019',\n",
       " 'P15_F2064',\n",
       " 'P15_F65P',\n",
       " 'P15_POP01P',\n",
       " 'P15_POP01P_IRAN1',\n",
       " 'P15_POP01P_IRAN2',\n",
       " 'P15_POP01P_IRAN3',\n",
       " 'P15_POP01P_IRAN4',\n",
       " 'P15_POP01P_IRAN5',\n",
       " 'P15_POP01P_IRAN6',\n",
       " 'P15_POP01P_IRAN7',\n",
       " 'P15_POP0114_IRAN2P',\n",
       " 'P15_POP0114_IRAN2',\n",
       " 'P15_POP0114_IRAN3P',\n",
       " 'P15_POP1524_IRAN2P',\n",
       " 'P15_POP1524_IRAN2',\n",
       " 'P15_POP1524_IRAN3P',\n",
       " 'P15_POP2554_IRAN2P',\n",
       " 'P15_POP2554_IRAN2',\n",
       " 'P15_POP2554_IRAN3P',\n",
       " 'P15_POP55P_IRAN2P',\n",
       " 'P15_POP55P_IRAN2',\n",
       " 'P15_POP55P_IRAN3P',\n",
       " 'C15_POP15P',\n",
       " 'C15_POP15P_CS1',\n",
       " 'C15_POP15P_CS2',\n",
       " 'C15_POP15P_CS3',\n",
       " 'C15_POP15P_CS4',\n",
       " 'C15_POP15P_CS5',\n",
       " 'C15_POP15P_CS6',\n",
       " 'C15_POP15P_CS7',\n",
       " 'C15_POP15P_CS8',\n",
       " 'C15_H15P',\n",
       " 'C15_H15P_CS1',\n",
       " 'C15_H15P_CS2',\n",
       " 'C15_H15P_CS3',\n",
       " 'C15_H15P_CS4',\n",
       " 'C15_H15P_CS5',\n",
       " 'C15_H15P_CS6',\n",
       " 'C15_H15P_CS7',\n",
       " 'C15_H15P_CS8',\n",
       " 'C15_F15P',\n",
       " 'C15_F15P_CS1',\n",
       " 'C15_F15P_CS2',\n",
       " 'C15_F15P_CS3',\n",
       " 'C15_F15P_CS4',\n",
       " 'C15_F15P_CS5',\n",
       " 'C15_F15P_CS6',\n",
       " 'C15_F15P_CS7',\n",
       " 'C15_F15P_CS8',\n",
       " 'C15_POP1524',\n",
       " 'C15_POP1524_CS1',\n",
       " 'C15_POP1524_CS2',\n",
       " 'C15_POP1524_CS3',\n",
       " 'C15_POP1524_CS4',\n",
       " 'C15_POP1524_CS5',\n",
       " 'C15_POP1524_CS6',\n",
       " 'C15_POP1524_CS7',\n",
       " 'C15_POP1524_CS8',\n",
       " 'C15_POP2554',\n",
       " 'C15_POP2554_CS1',\n",
       " 'C15_POP2554_CS2',\n",
       " 'C15_POP2554_CS3',\n",
       " 'C15_POP2554_CS4',\n",
       " 'C15_POP2554_CS5',\n",
       " 'C15_POP2554_CS6',\n",
       " 'C15_POP2554_CS7',\n",
       " 'C15_POP2554_CS8',\n",
       " 'C15_POP55P',\n",
       " 'C15_POP55P_CS1',\n",
       " 'C15_POP55P_CS2',\n",
       " 'C15_POP55P_CS3',\n",
       " 'C15_POP55P_CS4',\n",
       " 'C15_POP55P_CS5',\n",
       " 'C15_POP55P_CS6',\n",
       " 'C15_POP55P_CS7',\n",
       " 'C15_POP55P_CS8']"
      ]
     },
     "execution_count": 10,
     "metadata": {},
     "output_type": "execute_result"
    }
   ],
   "source": [
    "print(len(lc))\n",
    "lc"
   ]
  },
  {
   "cell_type": "code",
   "execution_count": 12,
   "metadata": {
    "tags": []
   },
   "outputs": [
    {
     "data": {
      "text/html": [
       "<div>\n",
       "<style scoped>\n",
       "    .dataframe tbody tr th:only-of-type {\n",
       "        vertical-align: middle;\n",
       "    }\n",
       "\n",
       "    .dataframe tbody tr th {\n",
       "        vertical-align: top;\n",
       "    }\n",
       "\n",
       "    .dataframe thead th {\n",
       "        text-align: right;\n",
       "    }\n",
       "</style>\n",
       "<table border=\"1\" class=\"dataframe\">\n",
       "  <thead>\n",
       "    <tr style=\"text-align: right;\">\n",
       "      <th></th>\n",
       "      <th>CODGEO</th>\n",
       "      <th>REG</th>\n",
       "      <th>DEP</th>\n",
       "      <th>LIBGEO</th>\n",
       "      <th>P15_POP</th>\n",
       "      <th>P15_POPF</th>\n",
       "      <th>P15_POP7589</th>\n",
       "      <th>P15_POP90P</th>\n",
       "      <th>C15_POP15P_CS6</th>\n",
       "    </tr>\n",
       "  </thead>\n",
       "  <tbody>\n",
       "    <tr>\n",
       "      <th>0</th>\n",
       "      <td>01001</td>\n",
       "      <td>84</td>\n",
       "      <td>01</td>\n",
       "      <td>L'Abergement-Clémenciat</td>\n",
       "      <td>767.0</td>\n",
       "      <td>375.000000</td>\n",
       "      <td>53.000000</td>\n",
       "      <td>5.000000</td>\n",
       "      <td>125.000000</td>\n",
       "    </tr>\n",
       "    <tr>\n",
       "      <th>1</th>\n",
       "      <td>01002</td>\n",
       "      <td>84</td>\n",
       "      <td>01</td>\n",
       "      <td>L'Abergement-de-Varey</td>\n",
       "      <td>241.0</td>\n",
       "      <td>119.012346</td>\n",
       "      <td>16.860082</td>\n",
       "      <td>1.983539</td>\n",
       "      <td>9.917695</td>\n",
       "    </tr>\n",
       "    <tr>\n",
       "      <th>2</th>\n",
       "      <td>01004</td>\n",
       "      <td>84</td>\n",
       "      <td>01</td>\n",
       "      <td>Ambérieu-en-Bugey</td>\n",
       "      <td>14127.0</td>\n",
       "      <td>7297.869343</td>\n",
       "      <td>1059.007272</td>\n",
       "      <td>149.633057</td>\n",
       "      <td>1800.543839</td>\n",
       "    </tr>\n",
       "    <tr>\n",
       "      <th>3</th>\n",
       "      <td>01005</td>\n",
       "      <td>84</td>\n",
       "      <td>01</td>\n",
       "      <td>Ambérieux-en-Dombes</td>\n",
       "      <td>1619.0</td>\n",
       "      <td>803.000000</td>\n",
       "      <td>99.000000</td>\n",
       "      <td>10.000000</td>\n",
       "      <td>230.000000</td>\n",
       "    </tr>\n",
       "    <tr>\n",
       "      <th>4</th>\n",
       "      <td>01006</td>\n",
       "      <td>84</td>\n",
       "      <td>01</td>\n",
       "      <td>Ambléon</td>\n",
       "      <td>109.0</td>\n",
       "      <td>47.563636</td>\n",
       "      <td>9.909091</td>\n",
       "      <td>0.990909</td>\n",
       "      <td>14.863636</td>\n",
       "    </tr>\n",
       "  </tbody>\n",
       "</table>\n",
       "</div>"
      ],
      "text/plain": [
       "  CODGEO  REG DEP                   LIBGEO  P15_POP     P15_POPF  P15_POP7589  \\\n",
       "0  01001   84  01  L'Abergement-Clémenciat    767.0   375.000000    53.000000   \n",
       "1  01002   84  01    L'Abergement-de-Varey    241.0   119.012346    16.860082   \n",
       "2  01004   84  01        Ambérieu-en-Bugey  14127.0  7297.869343  1059.007272   \n",
       "3  01005   84  01      Ambérieux-en-Dombes   1619.0   803.000000    99.000000   \n",
       "4  01006   84  01                  Ambléon    109.0    47.563636     9.909091   \n",
       "\n",
       "   P15_POP90P  C15_POP15P_CS6  \n",
       "0    5.000000      125.000000  \n",
       "1    1.983539        9.917695  \n",
       "2  149.633057     1800.543839  \n",
       "3   10.000000      230.000000  \n",
       "4    0.990909       14.863636  "
      ]
     },
     "execution_count": 12,
     "metadata": {},
     "output_type": "execute_result"
    }
   ],
   "source": [
    "colonnes = [ \"CODGEO\", \"REG\",\"DEP\", \"LIBGEO\", \"P15_POP\",\n",
    "    \"P15_POPF\",\"P15_POP7589\",\"P15_POP90P\",\"C15_POP15P_CS6\"]\n",
    "donnees = tableau[colonnes]\n",
    "donnees[0:5]"
   ]
  },
  {
   "cell_type": "code",
   "execution_count": 13,
   "metadata": {
    "tags": []
   },
   "outputs": [
    {
     "data": {
      "text/plain": [
       "numpy.float64"
      ]
     },
     "execution_count": 13,
     "metadata": {},
     "output_type": "execute_result"
    }
   ],
   "source": [
    "type(donnees.loc[10,\"P15_POP\"])"
   ]
  },
  {
   "cell_type": "markdown",
   "metadata": {},
   "source": [
    "### Recoder des données"
   ]
  },
  {
   "cell_type": "code",
   "execution_count": 14,
   "metadata": {
    "tags": []
   },
   "outputs": [],
   "source": [
    "def calcul_prop_f(ligne):\n",
    "    if (ligne[\"P15_POP\"] == None) or (ligne[\"P15_POP\"] == 0):\n",
    "        return None\n",
    "    proportion = 100*ligne[\"P15_POPF\"]/ligne[\"P15_POP\"]\n",
    "    return round(proportion,1)"
   ]
  },
  {
   "cell_type": "code",
   "execution_count": 16,
   "metadata": {
    "tags": []
   },
   "outputs": [
    {
     "name": "stderr",
     "output_type": "stream",
     "text": [
      "<ipython-input-16-8bdff1766fd4>:1: SettingWithCopyWarning: \n",
      "A value is trying to be set on a copy of a slice from a DataFrame.\n",
      "Try using .loc[row_indexer,col_indexer] = value instead\n",
      "\n",
      "See the caveats in the documentation: https://pandas.pydata.org/pandas-docs/stable/user_guide/indexing.html#returning-a-view-versus-a-copy\n",
      "  donnees[\"prop_f\"] = donnees.apply(calcul_prop_f, axis=1)\n"
     ]
    },
    {
     "data": {
      "text/html": [
       "<div>\n",
       "<style scoped>\n",
       "    .dataframe tbody tr th:only-of-type {\n",
       "        vertical-align: middle;\n",
       "    }\n",
       "\n",
       "    .dataframe tbody tr th {\n",
       "        vertical-align: top;\n",
       "    }\n",
       "\n",
       "    .dataframe thead th {\n",
       "        text-align: right;\n",
       "    }\n",
       "</style>\n",
       "<table border=\"1\" class=\"dataframe\">\n",
       "  <thead>\n",
       "    <tr style=\"text-align: right;\">\n",
       "      <th></th>\n",
       "      <th>CODGEO</th>\n",
       "      <th>REG</th>\n",
       "      <th>DEP</th>\n",
       "      <th>LIBGEO</th>\n",
       "      <th>P15_POP</th>\n",
       "      <th>P15_POPF</th>\n",
       "      <th>P15_POP7589</th>\n",
       "      <th>P15_POP90P</th>\n",
       "      <th>C15_POP15P_CS6</th>\n",
       "      <th>prop_f</th>\n",
       "    </tr>\n",
       "  </thead>\n",
       "  <tbody>\n",
       "    <tr>\n",
       "      <th>0</th>\n",
       "      <td>01001</td>\n",
       "      <td>84</td>\n",
       "      <td>01</td>\n",
       "      <td>L'Abergement-Clémenciat</td>\n",
       "      <td>767.0</td>\n",
       "      <td>375.000000</td>\n",
       "      <td>53.000000</td>\n",
       "      <td>5.000000</td>\n",
       "      <td>125.000000</td>\n",
       "      <td>48.9</td>\n",
       "    </tr>\n",
       "    <tr>\n",
       "      <th>1</th>\n",
       "      <td>01002</td>\n",
       "      <td>84</td>\n",
       "      <td>01</td>\n",
       "      <td>L'Abergement-de-Varey</td>\n",
       "      <td>241.0</td>\n",
       "      <td>119.012346</td>\n",
       "      <td>16.860082</td>\n",
       "      <td>1.983539</td>\n",
       "      <td>9.917695</td>\n",
       "      <td>49.4</td>\n",
       "    </tr>\n",
       "    <tr>\n",
       "      <th>2</th>\n",
       "      <td>01004</td>\n",
       "      <td>84</td>\n",
       "      <td>01</td>\n",
       "      <td>Ambérieu-en-Bugey</td>\n",
       "      <td>14127.0</td>\n",
       "      <td>7297.869343</td>\n",
       "      <td>1059.007272</td>\n",
       "      <td>149.633057</td>\n",
       "      <td>1800.543839</td>\n",
       "      <td>51.7</td>\n",
       "    </tr>\n",
       "    <tr>\n",
       "      <th>3</th>\n",
       "      <td>01005</td>\n",
       "      <td>84</td>\n",
       "      <td>01</td>\n",
       "      <td>Ambérieux-en-Dombes</td>\n",
       "      <td>1619.0</td>\n",
       "      <td>803.000000</td>\n",
       "      <td>99.000000</td>\n",
       "      <td>10.000000</td>\n",
       "      <td>230.000000</td>\n",
       "      <td>49.6</td>\n",
       "    </tr>\n",
       "    <tr>\n",
       "      <th>4</th>\n",
       "      <td>01006</td>\n",
       "      <td>84</td>\n",
       "      <td>01</td>\n",
       "      <td>Ambléon</td>\n",
       "      <td>109.0</td>\n",
       "      <td>47.563636</td>\n",
       "      <td>9.909091</td>\n",
       "      <td>0.990909</td>\n",
       "      <td>14.863636</td>\n",
       "      <td>43.6</td>\n",
       "    </tr>\n",
       "  </tbody>\n",
       "</table>\n",
       "</div>"
      ],
      "text/plain": [
       "  CODGEO  REG DEP                   LIBGEO  P15_POP     P15_POPF  P15_POP7589  \\\n",
       "0  01001   84  01  L'Abergement-Clémenciat    767.0   375.000000    53.000000   \n",
       "1  01002   84  01    L'Abergement-de-Varey    241.0   119.012346    16.860082   \n",
       "2  01004   84  01        Ambérieu-en-Bugey  14127.0  7297.869343  1059.007272   \n",
       "3  01005   84  01      Ambérieux-en-Dombes   1619.0   803.000000    99.000000   \n",
       "4  01006   84  01                  Ambléon    109.0    47.563636     9.909091   \n",
       "\n",
       "   P15_POP90P  C15_POP15P_CS6  prop_f  \n",
       "0    5.000000      125.000000    48.9  \n",
       "1    1.983539        9.917695    49.4  \n",
       "2  149.633057     1800.543839    51.7  \n",
       "3   10.000000      230.000000    49.6  \n",
       "4    0.990909       14.863636    43.6  "
      ]
     },
     "execution_count": 16,
     "metadata": {},
     "output_type": "execute_result"
    }
   ],
   "source": [
    "donnees[\"prop_f\"] = donnees.apply(calcul_prop_f, axis=1)\n",
    "donnees.head()"
   ]
  },
  {
   "cell_type": "code",
   "execution_count": 17,
   "metadata": {
    "attributes": {
     "classes": [],
     "hidden": "True",
     "id": ""
    },
    "tags": []
   },
   "outputs": [
    {
     "name": "stderr",
     "output_type": "stream",
     "text": [
      "<ipython-input-17-6a1b3e61acfa>:10: SettingWithCopyWarning: \n",
      "A value is trying to be set on a copy of a slice from a DataFrame.\n",
      "Try using .loc[row_indexer,col_indexer] = value instead\n",
      "\n",
      "See the caveats in the documentation: https://pandas.pydata.org/pandas-docs/stable/user_guide/indexing.html#returning-a-view-versus-a-copy\n",
      "  donnees[\"prop_ouvriers\"] = donnees.apply(calcul_prop_ouvriers,axis=1)\n",
      "<ipython-input-17-6a1b3e61acfa>:17: SettingWithCopyWarning: \n",
      "A value is trying to be set on a copy of a slice from a DataFrame.\n",
      "Try using .loc[row_indexer,col_indexer] = value instead\n",
      "\n",
      "See the caveats in the documentation: https://pandas.pydata.org/pandas-docs/stable/user_guide/indexing.html#returning-a-view-versus-a-copy\n",
      "  donnees[\"prop_sup75\"] = donnees.apply(calcul_prop_sup75,axis=1)\n"
     ]
    }
   ],
   "source": [
    "# deactivate history to not crash when poking at prompt number.\n",
    "ip = get_ipython()\n",
    "ip.history_manager.enabled = False\n",
    "\n",
    "def calcul_prop_ouvriers(ligne):\n",
    "    if (ligne[\"P15_POP\"] == None) or (ligne[\"P15_POP\"] == 0):\n",
    "        return None\n",
    "    return round(100*ligne[\"C15_POP15P_CS6\"]/ligne[\"P15_POP\"],1)\n",
    "    \n",
    "donnees[\"prop_ouvriers\"] = donnees.apply(calcul_prop_ouvriers,axis=1)\n",
    "def calcul_prop_sup75(ligne):\n",
    "    if (ligne[\"P15_POP\"] == None) or (ligne[\"P15_POP\"] == 0):\n",
    "        return None\n",
    "    plus_75ans = ligne[\"P15_POP7589\"]+ligne[\"P15_POP90P\"]\n",
    "    return round(100*plus_75ans/ligne[\"P15_POP\"],1)\n",
    "\n",
    "donnees[\"prop_sup75\"] = donnees.apply(calcul_prop_sup75,axis=1)"
   ]
  },
  {
   "cell_type": "code",
   "execution_count": 18,
   "metadata": {
    "tags": []
   },
   "outputs": [
    {
     "name": "stdout",
     "output_type": "stream",
     "text": [
      "51.6\n"
     ]
    }
   ],
   "source": [
    "total_pop = donnees[\"P15_POP\"].sum()\n",
    "total_f = donnees[\"P15_POPF\"].sum()\n",
    "prop_f_nat = 100*total_f/total_pop\n",
    "print(round(prop_f_nat,2))"
   ]
  },
  {
   "cell_type": "code",
   "execution_count": 19,
   "metadata": {
    "tags": []
   },
   "outputs": [
    {
     "name": "stderr",
     "output_type": "stream",
     "text": [
      "<ipython-input-19-3526facc57bc>:8: SettingWithCopyWarning: \n",
      "A value is trying to be set on a copy of a slice from a DataFrame.\n",
      "Try using .loc[row_indexer,col_indexer] = value instead\n",
      "\n",
      "See the caveats in the documentation: https://pandas.pydata.org/pandas-docs/stable/user_guide/indexing.html#returning-a-view-versus-a-copy\n",
      "  donnees[\"prop_cat\"] = donnees[\"prop_f\"].apply(reco_prop_f)\n"
     ]
    }
   ],
   "source": [
    "def reco_prop_f(proportion):\n",
    "    if proportion > prop_f_nat+1:\n",
    "        return \"Supérieur\"\n",
    "    if proportion < prop_f_nat-1:\n",
    "        return \"Inférieur\"\n",
    "    return \"Similaire\"\n",
    "\n",
    "donnees[\"prop_cat\"] = donnees[\"prop_f\"].apply(reco_prop_f)"
   ]
  },
  {
   "cell_type": "code",
   "execution_count": 20,
   "metadata": {
    "tags": []
   },
   "outputs": [
    {
     "name": "stderr",
     "output_type": "stream",
     "text": [
      "<ipython-input-20-a7e539d7fead>:2: SettingWithCopyWarning: \n",
      "A value is trying to be set on a copy of a slice from a DataFrame.\n",
      "Try using .loc[row_indexer,col_indexer] = value instead\n",
      "\n",
      "See the caveats in the documentation: https://pandas.pydata.org/pandas-docs/stable/user_guide/indexing.html#returning-a-view-versus-a-copy\n",
      "  donnees[\"P15_POP_C\"] = pd.cut(donnees[\"P15_POP\"], q)\n"
     ]
    },
    {
     "data": {
      "text/plain": [
       "0          (0, 1000]\n",
       "1          (0, 1000]\n",
       "2    (10000, 100000]\n",
       "3      (1000, 10000]\n",
       "4          (0, 1000]\n",
       "Name: P15_POP_C, dtype: category\n",
       "Categories (4, interval[int64]): [(0, 1000] < (1000, 10000] < (10000, 100000] < (100000, 10000000]]"
      ]
     },
     "execution_count": 20,
     "metadata": {},
     "output_type": "execute_result"
    }
   ],
   "source": [
    "\n",
    "q = [0,1000,10000,100000,10000000]\n",
    "donnees[\"P15_POP_C\"] = pd.cut(donnees[\"P15_POP\"], q)\n",
    "donnees[\"P15_POP_C\"].head()"
   ]
  },
  {
   "cell_type": "code",
   "execution_count": 21,
   "metadata": {
    "tags": []
   },
   "outputs": [
    {
     "data": {
      "text/plain": [
       "Inférieur    20517\n",
       "Similaire    10508\n",
       "Supérieur     4374\n",
       "Name: prop_cat, dtype: int64"
      ]
     },
     "execution_count": 21,
     "metadata": {},
     "output_type": "execute_result"
    }
   ],
   "source": [
    "donnees[\"prop_cat\"].value_counts()"
   ]
  },
  {
   "cell_type": "code",
   "execution_count": 22,
   "metadata": {
    "tags": []
   },
   "outputs": [
    {
     "data": {
      "text/plain": [
       "Inférieur    0.579593\n",
       "Similaire    0.296845\n",
       "Supérieur    0.123563\n",
       "Name: prop_cat, dtype: float64"
      ]
     },
     "execution_count": 22,
     "metadata": {},
     "output_type": "execute_result"
    }
   ],
   "source": [
    "donnees[\"prop_cat\"].value_counts(normalize=True)"
   ]
  },
  {
   "cell_type": "code",
   "execution_count": 23,
   "metadata": {
    "tags": []
   },
   "outputs": [
    {
     "name": "stderr",
     "output_type": "stream",
     "text": [
      "<ipython-input-23-359f02fb572b>:1: SettingWithCopyWarning: \n",
      "A value is trying to be set on a copy of a slice from a DataFrame.\n",
      "Try using .loc[row_indexer,col_indexer] = value instead\n",
      "\n",
      "See the caveats in the documentation: https://pandas.pydata.org/pandas-docs/stable/user_guide/indexing.html#returning-a-view-versus-a-copy\n",
      "  donnees[\"prop_f_ab\"] = donnees[\"prop_f\"].fillna(\"Absent\")\n"
     ]
    }
   ],
   "source": [
    "donnees[\"prop_f_ab\"] = donnees[\"prop_f\"].fillna(\"Absent\")"
   ]
  },
  {
   "cell_type": "code",
   "execution_count": 24,
   "metadata": {
    "attributes": {
     "caption": "\"Exemple d'une représentation graphique exploratoire\"",
     "classes": [],
     "fig": "'explo'",
     "id": ""
    },
    "tags": []
   },
   "outputs": [
    {
     "data": {
      "image/png": "[encoded data removed]",
      "text/plain": [
       "<Figure size 432x288 with 1 Axes>"
      ]
     },
     "metadata": {
      "needs_background": "light"
     },
     "output_type": "display_data"
    }
   ],
   "source": [
    "comptage = donnees[\"prop_cat\"].value_counts()\n",
    "ax = comptage.plot(kind=\"barh\", color=\"lightgray\")"
   ]
  },
  {
   "cell_type": "markdown",
   "metadata": {},
   "source": [
    "### Calculer des indicateurs de tendance"
   ]
  },
  {
   "cell_type": "code",
   "execution_count": 25,
   "metadata": {
    "tags": []
   },
   "outputs": [
    {
     "data": {
      "text/plain": [
       "1869.8347410943811"
      ]
     },
     "execution_count": 25,
     "metadata": {},
     "output_type": "execute_result"
    }
   ],
   "source": [
    "donnees[\"P15_POP\"].mean()"
   ]
  },
  {
   "cell_type": "code",
   "execution_count": 26,
   "metadata": {
    "tags": []
   },
   "outputs": [
    {
     "data": {
      "text/plain": [
       "450.0"
      ]
     },
     "execution_count": 26,
     "metadata": {},
     "output_type": "execute_result"
    }
   ],
   "source": [
    "donnees[\"P15_POP\"].median()"
   ]
  },
  {
   "cell_type": "code",
   "execution_count": 27,
   "metadata": {
    "tags": []
   },
   "outputs": [
    {
     "data": {
      "text/plain": [
       "0    107.0\n",
       "dtype: float64"
      ]
     },
     "execution_count": 27,
     "metadata": {},
     "output_type": "execute_result"
    }
   ],
   "source": [
    "donnees[\"P15_POP\"].mode()"
   ]
  },
  {
   "cell_type": "markdown",
   "metadata": {},
   "source": [
    "### Calculer des indicateurs de dispersion"
   ]
  },
  {
   "cell_type": "code",
   "execution_count": 28,
   "metadata": {
    "tags": []
   },
   "outputs": [
    {
     "data": {
      "text/plain": [
       "15028.28010700149"
      ]
     },
     "execution_count": 28,
     "metadata": {},
     "output_type": "execute_result"
    }
   ],
   "source": [
    "donnees[\"P15_POP\"].std()"
   ]
  },
  {
   "cell_type": "code",
   "execution_count": 29,
   "metadata": {
    "tags": []
   },
   "outputs": [
    {
     "data": {
      "text/plain": [
       "0.00          0.0\n",
       "0.25        198.0\n",
       "0.50        450.0\n",
       "0.75       1131.0\n",
       "1.00    2206488.0\n",
       "Name: P15_POP, dtype: float64"
      ]
     },
     "execution_count": 29,
     "metadata": {},
     "output_type": "execute_result"
    }
   ],
   "source": [
    "donnees[\"P15_POP\"].quantile([0,0.25,0.5,0.75,1])"
   ]
  },
  {
   "cell_type": "code",
   "execution_count": 30,
   "metadata": {
    "tags": []
   },
   "outputs": [
    {
     "name": "stderr",
     "output_type": "stream",
     "text": [
      "<ipython-input-30-d3a389af8c9b>:4: SettingWithCopyWarning: \n",
      "A value is trying to be set on a copy of a slice from a DataFrame.\n",
      "Try using .loc[row_indexer,col_indexer] = value instead\n",
      "\n",
      "See the caveats in the documentation: https://pandas.pydata.org/pandas-docs/stable/user_guide/indexing.html#returning-a-view-versus-a-copy\n",
      "  donnees[\"P15_POP_C\"]=pd.qcut(donnees[\"P15_POP\"],q,l)\n",
      "<ipython-input-30-d3a389af8c9b>:5: SettingWithCopyWarning: \n",
      "A value is trying to be set on a copy of a slice from a DataFrame.\n",
      "Try using .loc[row_indexer,col_indexer] = value instead\n",
      "\n",
      "See the caveats in the documentation: https://pandas.pydata.org/pandas-docs/stable/user_guide/indexing.html#returning-a-view-versus-a-copy\n",
      "  donnees[\"prop_f_C\"]=pd.qcut(donnees[\"prop_f\"],q,l)\n",
      "<ipython-input-30-d3a389af8c9b>:6: SettingWithCopyWarning: \n",
      "A value is trying to be set on a copy of a slice from a DataFrame.\n",
      "Try using .loc[row_indexer,col_indexer] = value instead\n",
      "\n",
      "See the caveats in the documentation: https://pandas.pydata.org/pandas-docs/stable/user_guide/indexing.html#returning-a-view-versus-a-copy\n",
      "  donnees[\"prop_sup75_C\"]=pd.qcut(donnees[\"prop_sup75\"],q,l)\n",
      "<ipython-input-30-d3a389af8c9b>:7: SettingWithCopyWarning: \n",
      "A value is trying to be set on a copy of a slice from a DataFrame.\n",
      "Try using .loc[row_indexer,col_indexer] = value instead\n",
      "\n",
      "See the caveats in the documentation: https://pandas.pydata.org/pandas-docs/stable/user_guide/indexing.html#returning-a-view-versus-a-copy\n",
      "  donnees[\"prop_ouvriers_C\"]=pd.qcut(donnees[\"prop_ouvriers\"],q,l)\n"
     ]
    }
   ],
   "source": [
    "q = [0,0.25,0.5,0.75,1]\n",
    "l = [\"Q1\",\"Q2\",\"Q3\",\"Q4\"]\n",
    "\n",
    "donnees[\"P15_POP_C\"]=pd.qcut(donnees[\"P15_POP\"],q,l)\n",
    "donnees[\"prop_f_C\"]=pd.qcut(donnees[\"prop_f\"],q,l)\n",
    "donnees[\"prop_sup75_C\"]=pd.qcut(donnees[\"prop_sup75\"],q,l)\n",
    "donnees[\"prop_ouvriers_C\"]=pd.qcut(donnees[\"prop_ouvriers\"],q,l)\n",
    "\n",
    "donnees.to_csv(\"./data/data-chap6.csv\")"
   ]
  },
  {
   "cell_type": "code",
   "execution_count": 31,
   "metadata": {
    "tags": []
   },
   "outputs": [
    {
     "name": "stdout",
     "output_type": "stream",
     "text": [
      "933.0\n"
     ]
    }
   ],
   "source": [
    "Q = donnees[\"P15_POP\"].quantile([0.25,0.75])\n",
    "print(Q[0.75]-Q[0.25])"
   ]
  },
  {
   "cell_type": "code",
   "execution_count": 32,
   "metadata": {
    "tags": []
   },
   "outputs": [
    {
     "data": {
      "text/plain": [
       "count    3.539900e+04\n",
       "mean     1.869835e+03\n",
       "std      1.502828e+04\n",
       "min      0.000000e+00\n",
       "25%      1.980000e+02\n",
       "50%      4.500000e+02\n",
       "75%      1.131000e+03\n",
       "max      2.206488e+06\n",
       "Name: P15_POP, dtype: float64"
      ]
     },
     "execution_count": 32,
     "metadata": {},
     "output_type": "execute_result"
    }
   ],
   "source": [
    "donnees[\"P15_POP\"].describe()"
   ]
  },
  {
   "cell_type": "markdown",
   "metadata": {},
   "source": [
    "### Définir les outliers"
   ]
  },
  {
   "cell_type": "code",
   "execution_count": 33,
   "metadata": {
    "tags": []
   },
   "outputs": [
    {
     "data": {
      "text/plain": [
       "False    35382\n",
       "True        17\n",
       "Name: P15_POP, dtype: int64"
      ]
     },
     "execution_count": 33,
     "metadata": {},
     "output_type": "execute_result"
    }
   ],
   "source": [
    "# Définition de la fonction\n",
    "def identifie_outliers(valeur, nb_std, m, std):\n",
    "    distance = abs(valeur-m)/std\n",
    "    if distance > nb_std :\n",
    "        return True\n",
    "    return False\n",
    "\n",
    "# Calcul des indicateurs\n",
    "moyenne = donnees[\"P15_POP\"].mean()\n",
    "ecarttype = donnees[\"P15_POP\"].std()\n",
    "\n",
    "# Identification des outliers\n",
    "outliers = donnees[\"P15_POP\"].apply(identifie_outliers,\n",
    "        args = (10,moyenne,ecarttype))\n",
    "outliers.value_counts()"
   ]
  },
  {
   "cell_type": "markdown",
   "metadata": {},
   "source": [
    "### Tableaux croisés"
   ]
  },
  {
   "cell_type": "code",
   "execution_count": 25,
   "metadata": {
    "execution": {
     "iopub.execute_input": "2020-12-22T18:32:15.546029Z",
     "iopub.status.busy": "2020-12-22T18:32:15.510673Z",
     "iopub.status.idle": "2020-12-22T18:32:16.268236Z",
     "shell.execute_reply": "2020-12-22T18:32:16.270412Z"
    }
   },
   "outputs": [
    {
     "data": {
      "text/html": [
       "<div>\n",
       "<style scoped>\n",
       "    .dataframe tbody tr th:only-of-type {\n",
       "        vertical-align: middle;\n",
       "    }\n",
       "\n",
       "    .dataframe tbody tr th {\n",
       "        vertical-align: top;\n",
       "    }\n",
       "\n",
       "    .dataframe thead th {\n",
       "        text-align: right;\n",
       "    }\n",
       "</style>\n",
       "<table border=\"1\" class=\"dataframe\">\n",
       "  <thead>\n",
       "    <tr style=\"text-align: right;\">\n",
       "      <th>prop_sup75_C</th>\n",
       "      <th>Q1</th>\n",
       "      <th>Q2</th>\n",
       "      <th>Q3</th>\n",
       "      <th>Q4</th>\n",
       "    </tr>\n",
       "    <tr>\n",
       "      <th>prop_f_C</th>\n",
       "      <th></th>\n",
       "      <th></th>\n",
       "      <th></th>\n",
       "      <th></th>\n",
       "    </tr>\n",
       "  </thead>\n",
       "  <tbody>\n",
       "    <tr>\n",
       "      <th>Q1</th>\n",
       "      <td>2649</td>\n",
       "      <td>2064</td>\n",
       "      <td>2146</td>\n",
       "      <td>2055</td>\n",
       "    </tr>\n",
       "    <tr>\n",
       "      <th>Q2</th>\n",
       "      <td>2943</td>\n",
       "      <td>2423</td>\n",
       "      <td>2070</td>\n",
       "      <td>1542</td>\n",
       "    </tr>\n",
       "    <tr>\n",
       "      <th>Q3</th>\n",
       "      <td>2359</td>\n",
       "      <td>2515</td>\n",
       "      <td>2390</td>\n",
       "      <td>1655</td>\n",
       "    </tr>\n",
       "    <tr>\n",
       "      <th>Q4</th>\n",
       "      <td>1207</td>\n",
       "      <td>1567</td>\n",
       "      <td>2305</td>\n",
       "      <td>3503</td>\n",
       "    </tr>\n",
       "  </tbody>\n",
       "</table>\n",
       "</div>"
      ],
      "text/plain": [
       "prop_sup75_C    Q1    Q2    Q3    Q4\n",
       "prop_f_C                            \n",
       "Q1            2649  2064  2146  2055\n",
       "Q2            2943  2423  2070  1542\n",
       "Q3            2359  2515  2390  1655\n",
       "Q4            1207  1567  2305  3503"
      ]
     },
     "execution_count": 25,
     "metadata": {},
     "output_type": "execute_result"
    }
   ],
   "source": [
    "pd.crosstab(donnees[\"prop_f_C\"], donnees[\"prop_sup75_C\"])"
   ]
  },
  {
   "cell_type": "code",
   "execution_count": 26,
   "metadata": {
    "execution": {
     "iopub.execute_input": "2020-12-22T18:32:16.278734Z",
     "iopub.status.busy": "2020-12-22T18:32:16.274172Z",
     "iopub.status.idle": "2020-12-22T18:32:16.786517Z",
     "shell.execute_reply": "2020-12-22T18:32:16.784467Z"
    }
   },
   "outputs": [
    {
     "data": {
      "text/html": [
       "<div>\n",
       "<style scoped>\n",
       "    .dataframe tbody tr th:only-of-type {\n",
       "        vertical-align: middle;\n",
       "    }\n",
       "\n",
       "    .dataframe tbody tr th {\n",
       "        vertical-align: top;\n",
       "    }\n",
       "\n",
       "    .dataframe thead th {\n",
       "        text-align: right;\n",
       "    }\n",
       "</style>\n",
       "<table border=\"1\" class=\"dataframe\">\n",
       "  <thead>\n",
       "    <tr style=\"text-align: right;\">\n",
       "      <th>prop_sup75_C</th>\n",
       "      <th>Q1</th>\n",
       "      <th>Q2</th>\n",
       "      <th>Q3</th>\n",
       "      <th>Q4</th>\n",
       "      <th>All</th>\n",
       "    </tr>\n",
       "    <tr>\n",
       "      <th>prop_f_C</th>\n",
       "      <th></th>\n",
       "      <th></th>\n",
       "      <th></th>\n",
       "      <th></th>\n",
       "      <th></th>\n",
       "    </tr>\n",
       "  </thead>\n",
       "  <tbody>\n",
       "    <tr>\n",
       "      <th>Q1</th>\n",
       "      <td>28.93</td>\n",
       "      <td>24.09</td>\n",
       "      <td>24.08</td>\n",
       "      <td>23.47</td>\n",
       "      <td>25.19</td>\n",
       "    </tr>\n",
       "    <tr>\n",
       "      <th>Q2</th>\n",
       "      <td>32.14</td>\n",
       "      <td>28.28</td>\n",
       "      <td>23.23</td>\n",
       "      <td>17.61</td>\n",
       "      <td>25.37</td>\n",
       "    </tr>\n",
       "    <tr>\n",
       "      <th>Q3</th>\n",
       "      <td>25.76</td>\n",
       "      <td>29.35</td>\n",
       "      <td>26.82</td>\n",
       "      <td>18.90</td>\n",
       "      <td>25.20</td>\n",
       "    </tr>\n",
       "    <tr>\n",
       "      <th>Q4</th>\n",
       "      <td>13.18</td>\n",
       "      <td>18.29</td>\n",
       "      <td>25.87</td>\n",
       "      <td>40.01</td>\n",
       "      <td>24.25</td>\n",
       "    </tr>\n",
       "  </tbody>\n",
       "</table>\n",
       "</div>"
      ],
      "text/plain": [
       "prop_sup75_C    Q1    Q2    Q3    Q4   All\n",
       "prop_f_C                                  \n",
       "Q1           28.93 24.09 24.08 23.47 25.19\n",
       "Q2           32.14 28.28 23.23 17.61 25.37\n",
       "Q3           25.76 29.35 26.82 18.90 25.20\n",
       "Q4           13.18 18.29 25.87 40.01 24.25"
      ]
     },
     "execution_count": 26,
     "metadata": {},
     "output_type": "execute_result"
    }
   ],
   "source": [
    "tab = pd.crosstab(donnees[\"prop_f_C\"],\n",
    "                  donnees[\"prop_sup75_C\"],\n",
    "                  normalize='columns',\n",
    "                  margins=True)\n",
    "round(100*tab,2)"
   ]
  },
  {
   "cell_type": "code",
   "execution_count": 27,
   "metadata": {
    "execution": {
     "iopub.execute_input": "2020-12-22T18:32:16.805301Z",
     "iopub.status.busy": "2020-12-22T18:32:16.804318Z",
     "iopub.status.idle": "2020-12-22T18:32:16.876332Z",
     "shell.execute_reply": "2020-12-22T18:32:16.875734Z"
    }
   },
   "outputs": [
    {
     "data": {
      "text/html": [
       "<div>\n",
       "<style scoped>\n",
       "    .dataframe tbody tr th:only-of-type {\n",
       "        vertical-align: middle;\n",
       "    }\n",
       "\n",
       "    .dataframe tbody tr th {\n",
       "        vertical-align: top;\n",
       "    }\n",
       "\n",
       "    .dataframe thead th {\n",
       "        text-align: right;\n",
       "    }\n",
       "</style>\n",
       "<table border=\"1\" class=\"dataframe\">\n",
       "  <thead>\n",
       "    <tr style=\"text-align: right;\">\n",
       "      <th></th>\n",
       "      <th>prop femmes</th>\n",
       "      <th>Q1</th>\n",
       "      <th>Q2</th>\n",
       "      <th>Q3</th>\n",
       "      <th>Q4</th>\n",
       "    </tr>\n",
       "    <tr>\n",
       "      <th>prop vieux</th>\n",
       "      <th>prop ouvriers</th>\n",
       "      <th></th>\n",
       "      <th></th>\n",
       "      <th></th>\n",
       "      <th></th>\n",
       "    </tr>\n",
       "  </thead>\n",
       "  <tbody>\n",
       "    <tr>\n",
       "      <th rowspan=\"4\" valign=\"top\">Q1</th>\n",
       "      <th>Q1</th>\n",
       "      <td>588</td>\n",
       "      <td>638</td>\n",
       "      <td>583</td>\n",
       "      <td>380</td>\n",
       "    </tr>\n",
       "    <tr>\n",
       "      <th>Q2</th>\n",
       "      <td>507</td>\n",
       "      <td>794</td>\n",
       "      <td>698</td>\n",
       "      <td>292</td>\n",
       "    </tr>\n",
       "    <tr>\n",
       "      <th>Q3</th>\n",
       "      <td>635</td>\n",
       "      <td>813</td>\n",
       "      <td>616</td>\n",
       "      <td>255</td>\n",
       "    </tr>\n",
       "    <tr>\n",
       "      <th>Q4</th>\n",
       "      <td>919</td>\n",
       "      <td>698</td>\n",
       "      <td>462</td>\n",
       "      <td>280</td>\n",
       "    </tr>\n",
       "    <tr>\n",
       "      <th rowspan=\"4\" valign=\"top\">Q2</th>\n",
       "      <th>Q1</th>\n",
       "      <td>402</td>\n",
       "      <td>423</td>\n",
       "      <td>556</td>\n",
       "      <td>458</td>\n",
       "    </tr>\n",
       "    <tr>\n",
       "      <th>Q2</th>\n",
       "      <td>413</td>\n",
       "      <td>564</td>\n",
       "      <td>692</td>\n",
       "      <td>398</td>\n",
       "    </tr>\n",
       "    <tr>\n",
       "      <th>Q3</th>\n",
       "      <td>502</td>\n",
       "      <td>703</td>\n",
       "      <td>703</td>\n",
       "      <td>400</td>\n",
       "    </tr>\n",
       "    <tr>\n",
       "      <th>Q4</th>\n",
       "      <td>747</td>\n",
       "      <td>733</td>\n",
       "      <td>564</td>\n",
       "      <td>311</td>\n",
       "    </tr>\n",
       "    <tr>\n",
       "      <th rowspan=\"4\" valign=\"top\">Q3</th>\n",
       "      <th>Q1</th>\n",
       "      <td>511</td>\n",
       "      <td>384</td>\n",
       "      <td>501</td>\n",
       "      <td>658</td>\n",
       "    </tr>\n",
       "    <tr>\n",
       "      <th>Q2</th>\n",
       "      <td>429</td>\n",
       "      <td>447</td>\n",
       "      <td>619</td>\n",
       "      <td>649</td>\n",
       "    </tr>\n",
       "    <tr>\n",
       "      <th>Q3</th>\n",
       "      <td>505</td>\n",
       "      <td>585</td>\n",
       "      <td>687</td>\n",
       "      <td>600</td>\n",
       "    </tr>\n",
       "    <tr>\n",
       "      <th>Q4</th>\n",
       "      <td>701</td>\n",
       "      <td>654</td>\n",
       "      <td>583</td>\n",
       "      <td>398</td>\n",
       "    </tr>\n",
       "    <tr>\n",
       "      <th rowspan=\"4\" valign=\"top\">Q4</th>\n",
       "      <th>Q1</th>\n",
       "      <td>779</td>\n",
       "      <td>519</td>\n",
       "      <td>514</td>\n",
       "      <td>1210</td>\n",
       "    </tr>\n",
       "    <tr>\n",
       "      <th>Q2</th>\n",
       "      <td>395</td>\n",
       "      <td>330</td>\n",
       "      <td>410</td>\n",
       "      <td>990</td>\n",
       "    </tr>\n",
       "    <tr>\n",
       "      <th>Q3</th>\n",
       "      <td>379</td>\n",
       "      <td>346</td>\n",
       "      <td>424</td>\n",
       "      <td>867</td>\n",
       "    </tr>\n",
       "    <tr>\n",
       "      <th>Q4</th>\n",
       "      <td>502</td>\n",
       "      <td>347</td>\n",
       "      <td>307</td>\n",
       "      <td>436</td>\n",
       "    </tr>\n",
       "  </tbody>\n",
       "</table>\n",
       "</div>"
      ],
      "text/plain": [
       "prop femmes                Q1   Q2   Q3    Q4\n",
       "prop vieux prop ouvriers                     \n",
       "Q1         Q1             588  638  583   380\n",
       "           Q2             507  794  698   292\n",
       "           Q3             635  813  616   255\n",
       "           Q4             919  698  462   280\n",
       "Q2         Q1             402  423  556   458\n",
       "           Q2             413  564  692   398\n",
       "           Q3             502  703  703   400\n",
       "           Q4             747  733  564   311\n",
       "Q3         Q1             511  384  501   658\n",
       "           Q2             429  447  619   649\n",
       "           Q3             505  585  687   600\n",
       "           Q4             701  654  583   398\n",
       "Q4         Q1             779  519  514  1210\n",
       "           Q2             395  330  410   990\n",
       "           Q3             379  346  424   867\n",
       "           Q4             502  347  307   436"
      ]
     },
     "execution_count": 27,
     "metadata": {},
     "output_type": "execute_result"
    }
   ],
   "source": [
    "tab3 = pd.crosstab([donnees[\"prop_sup75_C\"],\n",
    "                    donnees[\"prop_ouvriers_C\"]],\n",
    "                donnees[\"prop_f_C\"],\n",
    "                rownames=[\"prop vieux\",\"prop ouvriers\"],\n",
    "                colnames=[\"prop femmes\"])\n",
    "tab3"
   ]
  },
  {
   "cell_type": "markdown",
   "metadata": {},
   "source": [
    "### Corrélation linéaire"
   ]
  },
  {
   "cell_type": "code",
   "execution_count": 28,
   "metadata": {
    "execution": {
     "iopub.execute_input": "2020-12-22T18:32:16.890963Z",
     "iopub.status.busy": "2020-12-22T18:32:16.882900Z",
     "iopub.status.idle": "2020-12-22T18:32:23.736148Z",
     "shell.execute_reply": "2020-12-22T18:32:23.741478Z"
    }
   },
   "outputs": [
    {
     "data": {
      "text/plain": [
       "-0.13"
      ]
     },
     "execution_count": 28,
     "metadata": {},
     "output_type": "execute_result"
    }
   ],
   "source": [
    "from scipy.stats import pearsonr\n",
    "\n",
    "variable1 = list(donnees[\"prop_sup75\"].dropna())\n",
    "variable2 = list(donnees[\"prop_ouvriers\"].dropna())\n",
    "round(pearsonr(variable1,variable2)[0],2)"
   ]
  },
  {
   "cell_type": "code",
   "execution_count": 29,
   "metadata": {
    "execution": {
     "iopub.execute_input": "2020-12-22T18:32:23.832684Z",
     "iopub.status.busy": "2020-12-22T18:32:23.806367Z",
     "iopub.status.idle": "2020-12-22T18:32:24.174341Z",
     "shell.execute_reply": "2020-12-22T18:32:24.176745Z"
    }
   },
   "outputs": [
    {
     "data": {
      "text/html": [
       "<div>\n",
       "<style scoped>\n",
       "    .dataframe tbody tr th:only-of-type {\n",
       "        vertical-align: middle;\n",
       "    }\n",
       "\n",
       "    .dataframe tbody tr th {\n",
       "        vertical-align: top;\n",
       "    }\n",
       "\n",
       "    .dataframe thead th {\n",
       "        text-align: right;\n",
       "    }\n",
       "</style>\n",
       "<table border=\"1\" class=\"dataframe\">\n",
       "  <thead>\n",
       "    <tr style=\"text-align: right;\">\n",
       "      <th></th>\n",
       "      <th>prop_sup75</th>\n",
       "      <th>prop_ouvriers</th>\n",
       "      <th>prop_f</th>\n",
       "    </tr>\n",
       "  </thead>\n",
       "  <tbody>\n",
       "    <tr>\n",
       "      <th>prop_sup75</th>\n",
       "      <td>1.00</td>\n",
       "      <td>-0.13</td>\n",
       "      <td>0.16</td>\n",
       "    </tr>\n",
       "    <tr>\n",
       "      <th>prop_ouvriers</th>\n",
       "      <td>-0.13</td>\n",
       "      <td>1.00</td>\n",
       "      <td>-0.11</td>\n",
       "    </tr>\n",
       "    <tr>\n",
       "      <th>prop_f</th>\n",
       "      <td>0.16</td>\n",
       "      <td>-0.11</td>\n",
       "      <td>1.00</td>\n",
       "    </tr>\n",
       "  </tbody>\n",
       "</table>\n",
       "</div>"
      ],
      "text/plain": [
       "               prop_sup75  prop_ouvriers  prop_f\n",
       "prop_sup75           1.00          -0.13    0.16\n",
       "prop_ouvriers       -0.13           1.00   -0.11\n",
       "prop_f               0.16          -0.11    1.00"
      ]
     },
     "execution_count": 29,
     "metadata": {},
     "output_type": "execute_result"
    }
   ],
   "source": [
    "donnees[[\"prop_sup75\",\"prop_ouvriers\",\"prop_f\"]].corr()"
   ]
  },
  {
   "cell_type": "code",
   "execution_count": 30,
   "metadata": {
    "execution": {
     "iopub.execute_input": "2020-12-22T18:32:24.190995Z",
     "iopub.status.busy": "2020-12-22T18:32:24.187555Z",
     "iopub.status.idle": "2020-12-22T18:32:24.256509Z",
     "shell.execute_reply": "2020-12-22T18:32:24.258627Z"
    }
   },
   "outputs": [
    {
     "data": {
      "text/plain": [
       "prop_f_C\n",
       "Q1    382.62\n",
       "Q2    886.30\n",
       "Q3   1961.62\n",
       "Q4   4349.42\n",
       "Name: P15_POP, dtype: float64"
      ]
     },
     "execution_count": 30,
     "metadata": {},
     "output_type": "execute_result"
    }
   ],
   "source": [
    "donnees.groupby(\"prop_f_C\")[\"P15_POP\"].mean()"
   ]
  },
  {
   "cell_type": "code",
   "execution_count": 31,
   "metadata": {
    "execution": {
     "iopub.execute_input": "2020-12-22T18:32:24.274393Z",
     "iopub.status.busy": "2020-12-22T18:32:24.267045Z",
     "iopub.status.idle": "2020-12-22T18:32:24.385585Z",
     "shell.execute_reply": "2020-12-22T18:32:24.390715Z"
    }
   },
   "outputs": [
    {
     "data": {
      "text/html": [
       "<div>\n",
       "<style scoped>\n",
       "    .dataframe tbody tr th:only-of-type {\n",
       "        vertical-align: middle;\n",
       "    }\n",
       "\n",
       "    .dataframe tbody tr th {\n",
       "        vertical-align: top;\n",
       "    }\n",
       "\n",
       "    .dataframe thead th {\n",
       "        text-align: right;\n",
       "    }\n",
       "</style>\n",
       "<table border=\"1\" class=\"dataframe\">\n",
       "  <thead>\n",
       "    <tr style=\"text-align: right;\">\n",
       "      <th></th>\n",
       "      <th>median</th>\n",
       "      <th>mean</th>\n",
       "    </tr>\n",
       "    <tr>\n",
       "      <th>prop_f_C</th>\n",
       "      <th></th>\n",
       "      <th></th>\n",
       "    </tr>\n",
       "  </thead>\n",
       "  <tbody>\n",
       "    <tr>\n",
       "      <th>Q1</th>\n",
       "      <td>226.00</td>\n",
       "      <td>382.62</td>\n",
       "    </tr>\n",
       "    <tr>\n",
       "      <th>Q2</th>\n",
       "      <td>500.00</td>\n",
       "      <td>886.30</td>\n",
       "    </tr>\n",
       "    <tr>\n",
       "      <th>Q3</th>\n",
       "      <td>720.00</td>\n",
       "      <td>1961.62</td>\n",
       "    </tr>\n",
       "    <tr>\n",
       "      <th>Q4</th>\n",
       "      <td>673.00</td>\n",
       "      <td>4349.42</td>\n",
       "    </tr>\n",
       "  </tbody>\n",
       "</table>\n",
       "</div>"
      ],
      "text/plain": [
       "          median    mean\n",
       "prop_f_C                \n",
       "Q1        226.00  382.62\n",
       "Q2        500.00  886.30\n",
       "Q3        720.00 1961.62\n",
       "Q4        673.00 4349.42"
      ]
     },
     "execution_count": 31,
     "metadata": {},
     "output_type": "execute_result"
    }
   ],
   "source": [
    "donnees.groupby(\"prop_f_C\")[\"P15_POP\"].agg([\"median\",\"mean\"])"
   ]
  },
  {
   "cell_type": "code",
   "execution_count": 32,
   "metadata": {
    "execution": {
     "iopub.execute_input": "2020-12-22T18:32:24.400214Z",
     "iopub.status.busy": "2020-12-22T18:32:24.398948Z",
     "iopub.status.idle": "2020-12-22T18:32:24.417945Z",
     "shell.execute_reply": "2020-12-22T18:32:24.417474Z"
    }
   },
   "outputs": [
    {
     "name": "stdout",
     "output_type": "stream",
     "text": [
      "Moyenne : 5e+01 [2.7]\n"
     ]
    }
   ],
   "source": [
    "m = donnees[\"prop_f\"].mean()\n",
    "et = donnees[\"prop_f\"].std()\n",
    "print(\"Moyenne : {:0.2} [{:0.2}]\".format(m, et))"
   ]
  },
  {
   "cell_type": "markdown",
   "metadata": {},
   "source": [
    "### Tests statistiques"
   ]
  },
  {
   "cell_type": "code",
   "execution_count": 33,
   "metadata": {
    "execution": {
     "iopub.execute_input": "2020-12-22T18:32:24.447567Z",
     "iopub.status.busy": "2020-12-22T18:32:24.433225Z",
     "iopub.status.idle": "2020-12-22T18:32:24.465978Z",
     "shell.execute_reply": "2020-12-22T18:32:24.466910Z"
    }
   },
   "outputs": [
    {
     "name": "stdout",
     "output_type": "stream",
     "text": [
      "La p-value du test est 0.000000e+00\n"
     ]
    }
   ],
   "source": [
    "from scipy.stats import normaltest\n",
    "test = normaltest(donnees[\"prop_f\"].dropna())\n",
    "print(\"La p-value du test est {:e}\".format(test[1]))"
   ]
  },
  {
   "cell_type": "code",
   "execution_count": 34,
   "metadata": {
    "execution": {
     "iopub.execute_input": "2020-12-22T18:32:24.486462Z",
     "iopub.status.busy": "2020-12-22T18:32:24.485428Z",
     "iopub.status.idle": "2020-12-22T18:32:24.642388Z",
     "shell.execute_reply": "2020-12-22T18:32:24.641103Z"
    }
   },
   "outputs": [
    {
     "name": "stdout",
     "output_type": "stream",
     "text": [
      "Moyenne : 5e+01 [2.523860e+00]\n"
     ]
    }
   ],
   "source": [
    "echantillon = donnees[\"prop_f\"].sample(frac=0.01)\n",
    "m = echantillon.mean()\n",
    "et = echantillon.std()\n",
    "print(\"Moyenne : {:0.2} [{:e}]\".format(m, et))"
   ]
  },
  {
   "cell_type": "code",
   "execution_count": 35,
   "metadata": {
    "execution": {
     "iopub.execute_input": "2020-12-22T18:32:24.681167Z",
     "iopub.status.busy": "2020-12-22T18:32:24.675283Z",
     "iopub.status.idle": "2020-12-22T18:32:24.815842Z",
     "shell.execute_reply": "2020-12-22T18:32:24.813715Z"
    }
   },
   "outputs": [
    {
     "name": "stdout",
     "output_type": "stream",
     "text": [
      "49.59782164891687 50.123647277636785\n"
     ]
    }
   ],
   "source": [
    "from scipy.stats import sem, norm\n",
    "m = echantillon.mean()\n",
    "es = sem(echantillon)\n",
    "intervalle = norm.interval(0.95, loc=m, scale=es)\n",
    "print(intervalle[0],intervalle[1])"
   ]
  },
  {
   "cell_type": "code",
   "execution_count": 36,
   "metadata": {
    "execution": {
     "iopub.execute_input": "2020-12-22T18:32:24.879085Z",
     "iopub.status.busy": "2020-12-22T18:32:24.872203Z",
     "iopub.status.idle": "2020-12-22T18:32:25.080353Z",
     "shell.execute_reply": "2020-12-22T18:32:25.081691Z"
    }
   },
   "outputs": [
    {
     "name": "stdout",
     "output_type": "stream",
     "text": [
      "2188.9 0.0\n"
     ]
    }
   ],
   "source": [
    "from scipy.stats import chi2_contingency\n",
    "tableau_croise = pd.crosstab(donnees[\"prop_f_C\"], \n",
    "                    donnees[\"prop_sup75_C\"])\n",
    "chi2 = chi2_contingency(tableau_croise)\n",
    "print(round(chi2[0],1), chi2[1])"
   ]
  },
  {
   "cell_type": "code",
   "execution_count": 37,
   "metadata": {
    "execution": {
     "iopub.execute_input": "2020-12-22T18:32:25.110531Z",
     "iopub.status.busy": "2020-12-22T18:32:25.096955Z",
     "iopub.status.idle": "2020-12-22T18:32:25.182877Z",
     "shell.execute_reply": "2020-12-22T18:32:25.183571Z"
    }
   },
   "outputs": [
    {
     "data": {
      "text/html": [
       "<div>\n",
       "<style scoped>\n",
       "    .dataframe tbody tr th:only-of-type {\n",
       "        vertical-align: middle;\n",
       "    }\n",
       "\n",
       "    .dataframe tbody tr th {\n",
       "        vertical-align: top;\n",
       "    }\n",
       "\n",
       "    .dataframe thead th {\n",
       "        text-align: right;\n",
       "    }\n",
       "</style>\n",
       "<table border=\"1\" class=\"dataframe\">\n",
       "  <thead>\n",
       "    <tr style=\"text-align: right;\">\n",
       "      <th>prop_sup75_C</th>\n",
       "      <th>Q1</th>\n",
       "      <th>Q2</th>\n",
       "      <th>Q3</th>\n",
       "      <th>Q4</th>\n",
       "    </tr>\n",
       "    <tr>\n",
       "      <th>prop_f_C</th>\n",
       "      <th></th>\n",
       "      <th></th>\n",
       "      <th></th>\n",
       "      <th></th>\n",
       "    </tr>\n",
       "  </thead>\n",
       "  <tbody>\n",
       "    <tr>\n",
       "      <th>Q1</th>\n",
       "      <td>342.49</td>\n",
       "      <td>-94.17</td>\n",
       "      <td>-98.30</td>\n",
       "      <td>-150.01</td>\n",
       "    </tr>\n",
       "    <tr>\n",
       "      <th>Q2</th>\n",
       "      <td>619.93</td>\n",
       "      <td>249.34</td>\n",
       "      <td>-190.42</td>\n",
       "      <td>-678.85</td>\n",
       "    </tr>\n",
       "    <tr>\n",
       "      <th>Q3</th>\n",
       "      <td>51.19</td>\n",
       "      <td>355.62</td>\n",
       "      <td>144.44</td>\n",
       "      <td>-551.25</td>\n",
       "    </tr>\n",
       "    <tr>\n",
       "      <th>Q4</th>\n",
       "      <td>-1013.61</td>\n",
       "      <td>-510.79</td>\n",
       "      <td>144.28</td>\n",
       "      <td>1380.11</td>\n",
       "    </tr>\n",
       "  </tbody>\n",
       "</table>\n",
       "</div>"
      ],
      "text/plain": [
       "prop_sup75_C       Q1      Q2      Q3      Q4\n",
       "prop_f_C                                     \n",
       "Q1             342.49  -94.17  -98.30 -150.01\n",
       "Q2             619.93  249.34 -190.42 -678.85\n",
       "Q3              51.19  355.62  144.44 -551.25\n",
       "Q4           -1013.61 -510.79  144.28 1380.11"
      ]
     },
     "execution_count": 37,
     "metadata": {},
     "output_type": "execute_result"
    }
   ],
   "source": [
    "tableau_croise - chi2[3]"
   ]
  },
  {
   "cell_type": "code",
   "execution_count": 38,
   "metadata": {
    "execution": {
     "iopub.execute_input": "2020-12-22T18:32:25.198605Z",
     "iopub.status.busy": "2020-12-22T18:32:25.195587Z",
     "iopub.status.idle": "2020-12-22T18:32:26.487402Z",
     "shell.execute_reply": "2020-12-22T18:32:26.488881Z"
    }
   },
   "outputs": [
    {
     "data": {
      "text/html": [
       "<div>\n",
       "<style scoped>\n",
       "    .dataframe tbody tr th:only-of-type {\n",
       "        vertical-align: middle;\n",
       "    }\n",
       "\n",
       "    .dataframe tbody tr th {\n",
       "        vertical-align: top;\n",
       "    }\n",
       "\n",
       "    .dataframe thead th {\n",
       "        text-align: right;\n",
       "    }\n",
       "</style>\n",
       "<table border=\"1\" class=\"dataframe\">\n",
       "  <thead>\n",
       "    <tr style=\"text-align: right;\">\n",
       "      <th></th>\n",
       "      <th>Chi-square test</th>\n",
       "      <th>results</th>\n",
       "    </tr>\n",
       "  </thead>\n",
       "  <tbody>\n",
       "    <tr>\n",
       "      <th>0</th>\n",
       "      <td>Pearson Chi-square ( 9.0) =</td>\n",
       "      <td>2188.87</td>\n",
       "    </tr>\n",
       "    <tr>\n",
       "      <th>1</th>\n",
       "      <td>p-value =</td>\n",
       "      <td>0.00</td>\n",
       "    </tr>\n",
       "    <tr>\n",
       "      <th>2</th>\n",
       "      <td>Cramer's V =</td>\n",
       "      <td>0.14</td>\n",
       "    </tr>\n",
       "  </tbody>\n",
       "</table>\n",
       "</div>"
      ],
      "text/plain": [
       "                Chi-square test  results\n",
       "0  Pearson Chi-square ( 9.0) =   2188.87\n",
       "1                    p-value =      0.00\n",
       "2                 Cramer's V =      0.14"
      ]
     },
     "execution_count": 38,
     "metadata": {},
     "output_type": "execute_result"
    }
   ],
   "source": [
    "import researchpy\n",
    "tableau = researchpy.crosstab(donnees[\"prop_f_C\"], \n",
    "        donnees[\"prop_sup75_C\"], test= \"chi-square\")\n",
    "tableau[1]"
   ]
  },
  {
   "cell_type": "code",
   "execution_count": 39,
   "metadata": {
    "execution": {
     "iopub.execute_input": "2020-12-22T18:32:26.542388Z",
     "iopub.status.busy": "2020-12-22T18:32:26.541163Z",
     "iopub.status.idle": "2020-12-22T18:32:26.705735Z",
     "shell.execute_reply": "2020-12-22T18:32:26.703323Z"
    }
   },
   "outputs": [
    {
     "name": "stdout",
     "output_type": "stream",
     "text": [
      "Moyenne groupe 1 : 10.4\n",
      "Moyenne groupe 2 : 9.44\n",
      "La p-value du test est 1.587731e-82\n"
     ]
    }
   ],
   "source": [
    "from scipy.stats import ttest_ind\n",
    "\n",
    "med = donnees[\"P15_POP\"].median()\n",
    "pv = donnees[donnees[\"P15_POP\"] < med][\"prop_sup75\"].dropna()\n",
    "gv = donnees[donnees[\"P15_POP\"] >= med][\"prop_sup75\"].dropna()\n",
    "\n",
    "print(\"Moyenne groupe 1 : {}\\nMoyenne groupe 2 : {}\".\\\n",
    "        format(round(pv.mean(),2),round(gv.mean(),2)))\n",
    "\n",
    "test = ttest_ind(pv,gv)\n",
    "print(\"La p-value du test est {:e}\".format(test[1]))"
   ]
  },
  {
   "cell_type": "code",
   "execution_count": 40,
   "metadata": {
    "execution": {
     "iopub.execute_input": "2020-12-22T18:32:26.727868Z",
     "iopub.status.busy": "2020-12-22T18:32:26.726454Z",
     "iopub.status.idle": "2020-12-22T18:32:26.855774Z",
     "shell.execute_reply": "2020-12-22T18:32:26.854435Z"
    }
   },
   "outputs": [
    {
     "name": "stdout",
     "output_type": "stream",
     "text": [
      "La p-value est 1.387835e-43\n"
     ]
    }
   ],
   "source": [
    "from scipy.stats import ranksums\n",
    "\n",
    "Q3 = donnees[donnees[\"P15_POP_C\"]==\"Q3\"][\"prop_sup75\"].dropna()\n",
    "Q4 = donnees[donnees[\"P15_POP_C\"]==\"Q4\"][\"prop_sup75\"].dropna()\n",
    "test = ranksums(Q3,Q4)\n",
    "print(\"La p-value est {:e}\".format(test[1]))"
   ]
  }
 ],
 "metadata": {
  "kernelspec": {
   "display_name": "Py 3.8 PySHS",
   "language": "python",
   "name": "py38_pyshs"
  },
  "language_info": {
   "codemirror_mode": {
    "name": "ipython",
    "version": 3
   },
   "file_extension": ".py",
   "mimetype": "text/x-python",
   "name": "python",
   "nbconvert_exporter": "python",
   "pygments_lexer": "ipython3",
   "version": "3.8.8"
  }
 },
 "nbformat": 4,
 "nbformat_minor": 4
}
