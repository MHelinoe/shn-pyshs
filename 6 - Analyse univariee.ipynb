{
 "cells": [
  {
   "cell_type": "markdown",
   "id": "incorrect-thanksgiving",
   "metadata": {},
   "source": [
    "# Population française par département en 2015\n",
    "\n",
    "\n",
    "\n",
    "* INSEE, population 2015 : https://www.insee.fr/fr/statistiques/3635065?sommaire=2414232&q=population+2015#consulter\n",
    "* INSEE, population 2017 : https://www.insee.fr/fr/statistiques/4515565?sommaire=4516122#consulter\n",
    "  * Dictionnaire des variables\n",
    "\n",
    "\n",
    "* https://fr.wikipedia.org/wiki/S%C3%A9rie_statistique\n",
    "* https://fr.wikipedia.org/wiki/Indicateur_de_dispersion\n",
    "* https://www.pluralsight.com/guides/interpreting-data-using-descriptive-statistics-python\n",
    "\n",
    "\n",
    "\n"
   ]
  },
  {
   "cell_type": "code",
   "execution_count": 1,
   "id": "imperial-respect",
   "metadata": {},
   "outputs": [],
   "source": [
    "import pandas as pd\n",
    "import matplotlib.pyplot as plt"
   ]
  },
  {
   "cell_type": "code",
   "execution_count": 2,
   "id": "corporate-support",
   "metadata": {},
   "outputs": [],
   "source": [
    "import pprint\n",
    "import csv\n",
    "import ast\n",
    "\n",
    "from collections import Counter\n",
    "from operator import itemgetter\n",
    "\n",
    "import sqlite3 as sql\n",
    "import time\n",
    "\n",
    "from importlib import reload\n",
    "from shutil import copyfile"
   ]
  },
  {
   "cell_type": "code",
   "execution_count": 3,
   "id": "flexible-tribune",
   "metadata": {},
   "outputs": [],
   "source": [
    "data = pd.read_csv(\"donnees/base-pop-2015-reduite.csv\")\n",
    "departements = pd.read_excel(\"donnees/departements-francais.xls\")"
   ]
  },
  {
   "cell_type": "code",
   "execution_count": 4,
   "id": "difficult-representation",
   "metadata": {},
   "outputs": [
    {
     "name": "stdout",
     "output_type": "stream",
     "text": [
      "Table 'pop_dep_2015_xsl' already exists.\n"
     ]
    },
    {
     "name": "stderr",
     "output_type": "stream",
     "text": [
      "/Users/fberetta/miniconda3/envs/py38_pyshs/lib/python3.8/site-packages/pandas/core/generic.py:2779: UserWarning: The spaces in these column names will not be changed. In pandas versions < 0.14, spaces were converted to underscores.\n",
      "  sql.to_sql(\n"
     ]
    }
   ],
   "source": [
    "### Ajouter une table sqlite, inspecter avec DBeaver\n",
    "\n",
    "c = sql.connect(\"donnees/france_recensement.sqlite\")\n",
    "try:\n",
    "    departements.to_sql('pop_dep_2015_xsl', c)\n",
    "except Exception as e:\n",
    "    print(e)\n",
    "c.close()"
   ]
  },
  {
   "cell_type": "code",
   "execution_count": 5,
   "id": "sustained-multimedia",
   "metadata": {},
   "outputs": [
    {
     "name": "stdout",
     "output_type": "stream",
     "text": [
      "['DEP', 'P15_POP', 'P15_POPF']\n"
     ]
    },
    {
     "data": {
      "text/html": [
       "<div>\n",
       "<style scoped>\n",
       "    .dataframe tbody tr th:only-of-type {\n",
       "        vertical-align: middle;\n",
       "    }\n",
       "\n",
       "    .dataframe tbody tr th {\n",
       "        vertical-align: top;\n",
       "    }\n",
       "\n",
       "    .dataframe thead th {\n",
       "        text-align: right;\n",
       "    }\n",
       "</style>\n",
       "<table border=\"1\" class=\"dataframe\">\n",
       "  <thead>\n",
       "    <tr style=\"text-align: right;\">\n",
       "      <th></th>\n",
       "      <th>DEP</th>\n",
       "      <th>P15_POP</th>\n",
       "      <th>P15_POPF</th>\n",
       "      <th>P15_POP0014</th>\n",
       "      <th>P15_POP1529</th>\n",
       "      <th>P15_POP3044</th>\n",
       "      <th>P15_POP4559</th>\n",
       "      <th>P15_POP6074</th>\n",
       "      <th>P15_POP7589</th>\n",
       "      <th>P15_POP90P</th>\n",
       "      <th>P15_F0014</th>\n",
       "      <th>P15_F1529</th>\n",
       "      <th>P15_F3044</th>\n",
       "      <th>P15_F4559</th>\n",
       "      <th>P15_F6074</th>\n",
       "      <th>P15_F7589</th>\n",
       "      <th>P15_F90P</th>\n",
       "    </tr>\n",
       "  </thead>\n",
       "  <tbody>\n",
       "    <tr>\n",
       "      <th>0</th>\n",
       "      <td>01</td>\n",
       "      <td>631877</td>\n",
       "      <td>319925.910898</td>\n",
       "      <td>128088.557317</td>\n",
       "      <td>103379.274993</td>\n",
       "      <td>128524.872154</td>\n",
       "      <td>129786.359553</td>\n",
       "      <td>91993.823722</td>\n",
       "      <td>43767.230444</td>\n",
       "      <td>6336.881818</td>\n",
       "      <td>62574.264090</td>\n",
       "      <td>50393.346194</td>\n",
       "      <td>64634.175124</td>\n",
       "      <td>64989.278839</td>\n",
       "      <td>46984.946859</td>\n",
       "      <td>25826.480962</td>\n",
       "      <td>4523.418830</td>\n",
       "    </tr>\n",
       "    <tr>\n",
       "      <th>1</th>\n",
       "      <td>02</td>\n",
       "      <td>538659</td>\n",
       "      <td>276704.484742</td>\n",
       "      <td>104070.061042</td>\n",
       "      <td>89651.836841</td>\n",
       "      <td>98760.319282</td>\n",
       "      <td>109680.838306</td>\n",
       "      <td>87052.069358</td>\n",
       "      <td>44060.240028</td>\n",
       "      <td>5383.635142</td>\n",
       "      <td>50908.509538</td>\n",
       "      <td>44118.504625</td>\n",
       "      <td>49772.114244</td>\n",
       "      <td>55265.896271</td>\n",
       "      <td>45231.684238</td>\n",
       "      <td>27321.066152</td>\n",
       "      <td>4086.709674</td>\n",
       "    </tr>\n",
       "    <tr>\n",
       "      <th>2</th>\n",
       "      <td>03</td>\n",
       "      <td>341613</td>\n",
       "      <td>177943.942410</td>\n",
       "      <td>53207.600515</td>\n",
       "      <td>48616.912683</td>\n",
       "      <td>56496.240798</td>\n",
       "      <td>70858.122509</td>\n",
       "      <td>66939.676852</td>\n",
       "      <td>39782.144817</td>\n",
       "      <td>5712.301826</td>\n",
       "      <td>26215.277003</td>\n",
       "      <td>23372.394566</td>\n",
       "      <td>28661.414892</td>\n",
       "      <td>36109.240402</td>\n",
       "      <td>35192.612618</td>\n",
       "      <td>24190.149154</td>\n",
       "      <td>4202.853776</td>\n",
       "    </tr>\n",
       "    <tr>\n",
       "      <th>3</th>\n",
       "      <td>04</td>\n",
       "      <td>161799</td>\n",
       "      <td>83082.806499</td>\n",
       "      <td>26191.243902</td>\n",
       "      <td>22429.133019</td>\n",
       "      <td>26782.838998</td>\n",
       "      <td>34691.617961</td>\n",
       "      <td>32127.606269</td>\n",
       "      <td>17120.699413</td>\n",
       "      <td>2455.860437</td>\n",
       "      <td>12540.587855</td>\n",
       "      <td>10843.410210</td>\n",
       "      <td>13735.468750</td>\n",
       "      <td>17701.339458</td>\n",
       "      <td>16576.521427</td>\n",
       "      <td>9884.705116</td>\n",
       "      <td>1800.773684</td>\n",
       "    </tr>\n",
       "    <tr>\n",
       "      <th>4</th>\n",
       "      <td>05</td>\n",
       "      <td>140916</td>\n",
       "      <td>72026.777347</td>\n",
       "      <td>23970.235318</td>\n",
       "      <td>20254.533871</td>\n",
       "      <td>25475.669765</td>\n",
       "      <td>30153.500532</td>\n",
       "      <td>25428.411659</td>\n",
       "      <td>13498.728547</td>\n",
       "      <td>2134.920307</td>\n",
       "      <td>11795.403949</td>\n",
       "      <td>9683.496465</td>\n",
       "      <td>13012.496442</td>\n",
       "      <td>15106.679941</td>\n",
       "      <td>13052.795516</td>\n",
       "      <td>7836.087413</td>\n",
       "      <td>1539.817622</td>\n",
       "    </tr>\n",
       "  </tbody>\n",
       "</table>\n",
       "</div>"
      ],
      "text/plain": [
       "  DEP  P15_POP       P15_POPF    P15_POP0014    P15_POP1529    P15_POP3044  \\\n",
       "0  01   631877  319925.910898  128088.557317  103379.274993  128524.872154   \n",
       "1  02   538659  276704.484742  104070.061042   89651.836841   98760.319282   \n",
       "2  03   341613  177943.942410   53207.600515   48616.912683   56496.240798   \n",
       "3  04   161799   83082.806499   26191.243902   22429.133019   26782.838998   \n",
       "4  05   140916   72026.777347   23970.235318   20254.533871   25475.669765   \n",
       "\n",
       "     P15_POP4559   P15_POP6074   P15_POP7589   P15_POP90P     P15_F0014  \\\n",
       "0  129786.359553  91993.823722  43767.230444  6336.881818  62574.264090   \n",
       "1  109680.838306  87052.069358  44060.240028  5383.635142  50908.509538   \n",
       "2   70858.122509  66939.676852  39782.144817  5712.301826  26215.277003   \n",
       "3   34691.617961  32127.606269  17120.699413  2455.860437  12540.587855   \n",
       "4   30153.500532  25428.411659  13498.728547  2134.920307  11795.403949   \n",
       "\n",
       "      P15_F1529     P15_F3044     P15_F4559     P15_F6074     P15_F7589  \\\n",
       "0  50393.346194  64634.175124  64989.278839  46984.946859  25826.480962   \n",
       "1  44118.504625  49772.114244  55265.896271  45231.684238  27321.066152   \n",
       "2  23372.394566  28661.414892  36109.240402  35192.612618  24190.149154   \n",
       "3  10843.410210  13735.468750  17701.339458  16576.521427   9884.705116   \n",
       "4   9683.496465  13012.496442  15106.679941  13052.795516   7836.087413   \n",
       "\n",
       "      P15_F90P  \n",
       "0  4523.418830  \n",
       "1  4086.709674  \n",
       "2  4202.853776  \n",
       "3  1800.773684  \n",
       "4  1539.817622  "
      ]
     },
     "execution_count": 5,
     "metadata": {},
     "output_type": "execute_result"
    }
   ],
   "source": [
    "columns = [c for c in data.columns]\n",
    "print(columns[:3])\n",
    "data.head()"
   ]
  },
  {
   "cell_type": "code",
   "execution_count": 6,
   "id": "unlikely-aggregate",
   "metadata": {},
   "outputs": [
    {
     "data": {
      "text/plain": [
       "numpy.int64"
      ]
     },
     "execution_count": 6,
     "metadata": {},
     "output_type": "execute_result"
    }
   ],
   "source": [
    "type(data.loc[10,\"P15_POP\"])"
   ]
  },
  {
   "cell_type": "code",
   "execution_count": 7,
   "id": "informal-fleece",
   "metadata": {},
   "outputs": [
    {
     "name": "stdout",
     "output_type": "stream",
     "text": [
      "Table 'pop_dep_2015' already exists.\n"
     ]
    }
   ],
   "source": [
    "### Ajouter une table sqlite, inspecter avec DBeaver\n",
    "\n",
    "c = sql.connect(\"donnees/france_recensement.sqlite\")\n",
    "try:\n",
    "    data.to_sql('pop_dep_2015', c)\n",
    "except Exception as e:\n",
    "    print(e)\n",
    "c.close()"
   ]
  },
  {
   "cell_type": "code",
   "execution_count": 8,
   "id": "digital-tamil",
   "metadata": {},
   "outputs": [
    {
     "data": {
      "text/html": [
       "<div>\n",
       "<style scoped>\n",
       "    .dataframe tbody tr th:only-of-type {\n",
       "        vertical-align: middle;\n",
       "    }\n",
       "\n",
       "    .dataframe tbody tr th {\n",
       "        vertical-align: top;\n",
       "    }\n",
       "\n",
       "    .dataframe thead th {\n",
       "        text-align: right;\n",
       "    }\n",
       "</style>\n",
       "<table border=\"1\" class=\"dataframe\">\n",
       "  <thead>\n",
       "    <tr style=\"text-align: right;\">\n",
       "      <th></th>\n",
       "      <th>DEP</th>\n",
       "      <th>P15_POP</th>\n",
       "    </tr>\n",
       "  </thead>\n",
       "  <tbody>\n",
       "    <tr>\n",
       "      <th>0</th>\n",
       "      <td>01</td>\n",
       "      <td>631877</td>\n",
       "    </tr>\n",
       "    <tr>\n",
       "      <th>1</th>\n",
       "      <td>02</td>\n",
       "      <td>538659</td>\n",
       "    </tr>\n",
       "    <tr>\n",
       "      <th>2</th>\n",
       "      <td>03</td>\n",
       "      <td>341613</td>\n",
       "    </tr>\n",
       "    <tr>\n",
       "      <th>3</th>\n",
       "      <td>04</td>\n",
       "      <td>161799</td>\n",
       "    </tr>\n",
       "    <tr>\n",
       "      <th>4</th>\n",
       "      <td>05</td>\n",
       "      <td>140916</td>\n",
       "    </tr>\n",
       "  </tbody>\n",
       "</table>\n",
       "</div>"
      ],
      "text/plain": [
       "  DEP  P15_POP\n",
       "0  01   631877\n",
       "1  02   538659\n",
       "2  03   341613\n",
       "3  04   161799\n",
       "4  05   140916"
      ]
     },
     "execution_count": 8,
     "metadata": {},
     "output_type": "execute_result"
    }
   ],
   "source": [
    "colonnes = [ \"DEP\", \"P15_POP\"]\n",
    "donnees = data[colonnes]\n",
    "donnees[0:5]"
   ]
  },
  {
   "cell_type": "code",
   "execution_count": 9,
   "id": "cleared-collapse",
   "metadata": {},
   "outputs": [
    {
     "data": {
      "text/html": [
       "<div>\n",
       "<style scoped>\n",
       "    .dataframe tbody tr th:only-of-type {\n",
       "        vertical-align: middle;\n",
       "    }\n",
       "\n",
       "    .dataframe tbody tr th {\n",
       "        vertical-align: top;\n",
       "    }\n",
       "\n",
       "    .dataframe thead th {\n",
       "        text-align: right;\n",
       "    }\n",
       "</style>\n",
       "<table border=\"1\" class=\"dataframe\">\n",
       "  <thead>\n",
       "    <tr style=\"text-align: right;\">\n",
       "      <th></th>\n",
       "      <th>DEP</th>\n",
       "      <th>P15_POP</th>\n",
       "    </tr>\n",
       "  </thead>\n",
       "  <tbody>\n",
       "    <tr>\n",
       "      <th>0</th>\n",
       "      <td>01</td>\n",
       "      <td>631877</td>\n",
       "    </tr>\n",
       "    <tr>\n",
       "      <th>1</th>\n",
       "      <td>02</td>\n",
       "      <td>538659</td>\n",
       "    </tr>\n",
       "    <tr>\n",
       "      <th>2</th>\n",
       "      <td>03</td>\n",
       "      <td>341613</td>\n",
       "    </tr>\n",
       "    <tr>\n",
       "      <th>3</th>\n",
       "      <td>04</td>\n",
       "      <td>161799</td>\n",
       "    </tr>\n",
       "    <tr>\n",
       "      <th>4</th>\n",
       "      <td>05</td>\n",
       "      <td>140916</td>\n",
       "    </tr>\n",
       "  </tbody>\n",
       "</table>\n",
       "</div>"
      ],
      "text/plain": [
       "  DEP  P15_POP\n",
       "0  01   631877\n",
       "1  02   538659\n",
       "2  03   341613\n",
       "3  04   161799\n",
       "4  05   140916"
      ]
     },
     "execution_count": 9,
     "metadata": {},
     "output_type": "execute_result"
    }
   ],
   "source": [
    "donnees.head()"
   ]
  },
  {
   "cell_type": "code",
   "execution_count": 10,
   "id": "thermal-converter",
   "metadata": {},
   "outputs": [
    {
     "data": {
      "text/plain": [
       "pandas.core.series.Series"
      ]
     },
     "execution_count": 10,
     "metadata": {},
     "output_type": "execute_result"
    }
   ],
   "source": [
    "pop2015 = donnees[\"P15_POP\"]\n",
    "type(pop2015)"
   ]
  },
  {
   "cell_type": "code",
   "execution_count": 11,
   "id": "rapid-constraint",
   "metadata": {},
   "outputs": [
    {
     "data": {
      "text/plain": [
       "(76309, 2605238)"
      ]
     },
     "execution_count": 11,
     "metadata": {},
     "output_type": "execute_result"
    }
   ],
   "source": [
    "min(pop2015), max(pop2015)"
   ]
  },
  {
   "cell_type": "code",
   "execution_count": 12,
   "id": "artificial-interpretation",
   "metadata": {},
   "outputs": [
    {
     "data": {
      "text/plain": [
       "count    1.000000e+02\n",
       "mean     6.619028e+05\n",
       "std      5.043667e+05\n",
       "min      7.630900e+04\n",
       "25%      3.026095e+05\n",
       "50%      5.350530e+05\n",
       "75%      8.288458e+05\n",
       "max      2.605238e+06\n",
       "Name: P15_POP, dtype: float64"
      ]
     },
     "execution_count": 12,
     "metadata": {},
     "output_type": "execute_result"
    }
   ],
   "source": [
    "pop2015.describe()"
   ]
  },
  {
   "cell_type": "code",
   "execution_count": 13,
   "id": "rental-attendance",
   "metadata": {},
   "outputs": [
    {
     "data": {
      "text/plain": [
       "(103, 7)"
      ]
     },
     "execution_count": 13,
     "metadata": {},
     "output_type": "execute_result"
    }
   ],
   "source": [
    "departements.shape"
   ]
  },
  {
   "cell_type": "code",
   "execution_count": 14,
   "id": "sunrise-concrete",
   "metadata": {},
   "outputs": [
    {
     "data": {
      "text/plain": [
       "Index(['NUMÉRO', 'NOM', 'REGION', 'CHEF LIEU', 'SUPERFICIE (km²)',\n",
       "       'POPULATION', 'DENSITE (habitants/km2)'],\n",
       "      dtype='object')"
      ]
     },
     "execution_count": 14,
     "metadata": {},
     "output_type": "execute_result"
    }
   ],
   "source": [
    "departements.columns"
   ]
  },
  {
   "cell_type": "code",
   "execution_count": 15,
   "id": "considerable-bruce",
   "metadata": {},
   "outputs": [],
   "source": [
    "departements = departements.dropna(how=\"any\")"
   ]
  },
  {
   "cell_type": "code",
   "execution_count": 16,
   "id": "marine-hygiene",
   "metadata": {},
   "outputs": [
    {
     "data": {
      "text/html": [
       "<div>\n",
       "<style scoped>\n",
       "    .dataframe tbody tr th:only-of-type {\n",
       "        vertical-align: middle;\n",
       "    }\n",
       "\n",
       "    .dataframe tbody tr th {\n",
       "        vertical-align: top;\n",
       "    }\n",
       "\n",
       "    .dataframe thead th {\n",
       "        text-align: right;\n",
       "    }\n",
       "</style>\n",
       "<table border=\"1\" class=\"dataframe\">\n",
       "  <thead>\n",
       "    <tr style=\"text-align: right;\">\n",
       "      <th></th>\n",
       "      <th>NUMÉRO</th>\n",
       "      <th>NOM</th>\n",
       "      <th>REGION</th>\n",
       "      <th>CHEF LIEU</th>\n",
       "      <th>SUPERFICIE (km²)</th>\n",
       "      <th>POPULATION</th>\n",
       "      <th>DENSITE (habitants/km2)</th>\n",
       "    </tr>\n",
       "  </thead>\n",
       "  <tbody>\n",
       "    <tr>\n",
       "      <th>0</th>\n",
       "      <td>1</td>\n",
       "      <td>Ain</td>\n",
       "      <td>Auvergne-Rhône-Alpes</td>\n",
       "      <td>Bourg-en-Bresse</td>\n",
       "      <td>5762.0</td>\n",
       "      <td>631877.0</td>\n",
       "      <td>109.7</td>\n",
       "    </tr>\n",
       "    <tr>\n",
       "      <th>1</th>\n",
       "      <td>2</td>\n",
       "      <td>Aisne</td>\n",
       "      <td>Hauts-de-France</td>\n",
       "      <td>Laon</td>\n",
       "      <td>7369.0</td>\n",
       "      <td>538659.0</td>\n",
       "      <td>73.1</td>\n",
       "    </tr>\n",
       "    <tr>\n",
       "      <th>2</th>\n",
       "      <td>3</td>\n",
       "      <td>Allier</td>\n",
       "      <td>Auvergne-Rhône-Alpes</td>\n",
       "      <td>Moulins</td>\n",
       "      <td>7340.0</td>\n",
       "      <td>341613.0</td>\n",
       "      <td>46.5</td>\n",
       "    </tr>\n",
       "    <tr>\n",
       "      <th>3</th>\n",
       "      <td>4</td>\n",
       "      <td>Alpes-de-Haute-Provence</td>\n",
       "      <td>Provence-Alpes-Côte d'Azur</td>\n",
       "      <td>Digne</td>\n",
       "      <td>6925.0</td>\n",
       "      <td>161799.0</td>\n",
       "      <td>23.4</td>\n",
       "    </tr>\n",
       "    <tr>\n",
       "      <th>4</th>\n",
       "      <td>5</td>\n",
       "      <td>Hautes-Alpes</td>\n",
       "      <td>Provence-Alpes-Côte d'Azur</td>\n",
       "      <td>Gap</td>\n",
       "      <td>5549.0</td>\n",
       "      <td>140916.0</td>\n",
       "      <td>25.4</td>\n",
       "    </tr>\n",
       "    <tr>\n",
       "      <th>...</th>\n",
       "      <td>...</td>\n",
       "      <td>...</td>\n",
       "      <td>...</td>\n",
       "      <td>...</td>\n",
       "      <td>...</td>\n",
       "      <td>...</td>\n",
       "      <td>...</td>\n",
       "    </tr>\n",
       "    <tr>\n",
       "      <th>91</th>\n",
       "      <td>91</td>\n",
       "      <td>Essonne</td>\n",
       "      <td>Ile-de-France</td>\n",
       "      <td>Évry</td>\n",
       "      <td>1804.0</td>\n",
       "      <td>1276233.0</td>\n",
       "      <td>707.3</td>\n",
       "    </tr>\n",
       "    <tr>\n",
       "      <th>92</th>\n",
       "      <td>92</td>\n",
       "      <td>Hauts-de-Seine</td>\n",
       "      <td>Ile-de-France</td>\n",
       "      <td>Nanterre</td>\n",
       "      <td>176.0</td>\n",
       "      <td>1601569.0</td>\n",
       "      <td>9120.6</td>\n",
       "    </tr>\n",
       "    <tr>\n",
       "      <th>93</th>\n",
       "      <td>93</td>\n",
       "      <td>Seine-St-Denis</td>\n",
       "      <td>Ile-de-France</td>\n",
       "      <td>Bobigny</td>\n",
       "      <td>236.0</td>\n",
       "      <td>1592663.0</td>\n",
       "      <td>6742.9</td>\n",
       "    </tr>\n",
       "    <tr>\n",
       "      <th>94</th>\n",
       "      <td>94</td>\n",
       "      <td>Val-de-Marne</td>\n",
       "      <td>Ile-de-France</td>\n",
       "      <td>Créteil</td>\n",
       "      <td>245.0</td>\n",
       "      <td>1372389.0</td>\n",
       "      <td>5601.6</td>\n",
       "    </tr>\n",
       "    <tr>\n",
       "      <th>95</th>\n",
       "      <td>95</td>\n",
       "      <td>Val-D'Oise</td>\n",
       "      <td>Ile-de-France</td>\n",
       "      <td>Pontoise</td>\n",
       "      <td>1246.0</td>\n",
       "      <td>1215390.0</td>\n",
       "      <td>975.5</td>\n",
       "    </tr>\n",
       "  </tbody>\n",
       "</table>\n",
       "<p>96 rows × 7 columns</p>\n",
       "</div>"
      ],
      "text/plain": [
       "   NUMÉRO                      NOM                      REGION  \\\n",
       "0       1                      Ain        Auvergne-Rhône-Alpes   \n",
       "1       2                    Aisne             Hauts-de-France   \n",
       "2       3                   Allier        Auvergne-Rhône-Alpes   \n",
       "3       4  Alpes-de-Haute-Provence  Provence-Alpes-Côte d'Azur   \n",
       "4       5             Hautes-Alpes  Provence-Alpes-Côte d'Azur   \n",
       "..    ...                      ...                         ...   \n",
       "91     91                  Essonne               Ile-de-France   \n",
       "92     92           Hauts-de-Seine               Ile-de-France   \n",
       "93     93           Seine-St-Denis               Ile-de-France   \n",
       "94     94             Val-de-Marne               Ile-de-France   \n",
       "95     95               Val-D'Oise               Ile-de-France   \n",
       "\n",
       "          CHEF LIEU  SUPERFICIE (km²)  POPULATION  DENSITE (habitants/km2)  \n",
       "0   Bourg-en-Bresse            5762.0    631877.0                    109.7  \n",
       "1              Laon            7369.0    538659.0                     73.1  \n",
       "2           Moulins            7340.0    341613.0                     46.5  \n",
       "3             Digne            6925.0    161799.0                     23.4  \n",
       "4               Gap            5549.0    140916.0                     25.4  \n",
       "..              ...               ...         ...                      ...  \n",
       "91             Évry            1804.0   1276233.0                    707.3  \n",
       "92         Nanterre             176.0   1601569.0                   9120.6  \n",
       "93          Bobigny             236.0   1592663.0                   6742.9  \n",
       "94          Créteil             245.0   1372389.0                   5601.6  \n",
       "95         Pontoise            1246.0   1215390.0                    975.5  \n",
       "\n",
       "[96 rows x 7 columns]"
      ]
     },
     "execution_count": 16,
     "metadata": {},
     "output_type": "execute_result"
    }
   ],
   "source": [
    "depart_exag = departements[departements.index < 96]\n",
    "depart_exag"
   ]
  },
  {
   "cell_type": "code",
   "execution_count": 17,
   "id": "orange-conjunction",
   "metadata": {},
   "outputs": [
    {
     "data": {
      "text/plain": [
       "count    9.600000e+01\n",
       "mean     6.698002e+05\n",
       "std      5.112656e+05\n",
       "min      7.630900e+04\n",
       "25%      3.026095e+05\n",
       "50%      5.378090e+05\n",
       "75%      8.431130e+05\n",
       "max      2.605238e+06\n",
       "Name: POPULATION, dtype: float64"
      ]
     },
     "execution_count": 17,
     "metadata": {},
     "output_type": "execute_result"
    }
   ],
   "source": [
    "depart_exag['POPULATION'].describe()"
   ]
  },
  {
   "cell_type": "code",
   "execution_count": 18,
   "id": "olympic-offset",
   "metadata": {},
   "outputs": [],
   "source": [
    "s_departements = depart_exag.sort_values(by=\"POPULATION\")\n",
    "s_departements\n",
    "s_departements['num_nom'] = s_departements['NUMÉRO'].map(str) + ' - ' + s_departements['NOM']"
   ]
  },
  {
   "cell_type": "code",
   "execution_count": 19,
   "id": "incredible-decision",
   "metadata": {},
   "outputs": [
    {
     "data": {
      "text/html": [
       "<div>\n",
       "<style scoped>\n",
       "    .dataframe tbody tr th:only-of-type {\n",
       "        vertical-align: middle;\n",
       "    }\n",
       "\n",
       "    .dataframe tbody tr th {\n",
       "        vertical-align: top;\n",
       "    }\n",
       "\n",
       "    .dataframe thead th {\n",
       "        text-align: right;\n",
       "    }\n",
       "</style>\n",
       "<table border=\"1\" class=\"dataframe\">\n",
       "  <thead>\n",
       "    <tr style=\"text-align: right;\">\n",
       "      <th></th>\n",
       "      <th>NUMÉRO</th>\n",
       "      <th>NOM</th>\n",
       "      <th>REGION</th>\n",
       "      <th>CHEF LIEU</th>\n",
       "      <th>SUPERFICIE (km²)</th>\n",
       "      <th>POPULATION</th>\n",
       "      <th>DENSITE (habitants/km2)</th>\n",
       "      <th>num_nom</th>\n",
       "    </tr>\n",
       "  </thead>\n",
       "  <tbody>\n",
       "    <tr>\n",
       "      <th>48</th>\n",
       "      <td>48</td>\n",
       "      <td>Lozère</td>\n",
       "      <td>Occitanie</td>\n",
       "      <td>Mende</td>\n",
       "      <td>5167.0</td>\n",
       "      <td>76309.0</td>\n",
       "      <td>14.8</td>\n",
       "      <td>48 - Lozère</td>\n",
       "    </tr>\n",
       "    <tr>\n",
       "      <th>23</th>\n",
       "      <td>23</td>\n",
       "      <td>Creuse</td>\n",
       "      <td>Nouvelle-Aquitaine</td>\n",
       "      <td>Guéret</td>\n",
       "      <td>5565.0</td>\n",
       "      <td>120365.0</td>\n",
       "      <td>21.6</td>\n",
       "      <td>23 - Creuse</td>\n",
       "    </tr>\n",
       "    <tr>\n",
       "      <th>4</th>\n",
       "      <td>5</td>\n",
       "      <td>Hautes-Alpes</td>\n",
       "      <td>Provence-Alpes-Côte d'Azur</td>\n",
       "      <td>Gap</td>\n",
       "      <td>5549.0</td>\n",
       "      <td>140916.0</td>\n",
       "      <td>25.4</td>\n",
       "      <td>5 - Hautes-Alpes</td>\n",
       "    </tr>\n",
       "    <tr>\n",
       "      <th>90</th>\n",
       "      <td>90</td>\n",
       "      <td>Territoire de Belfort</td>\n",
       "      <td>Bourgogne-Franche-Comté</td>\n",
       "      <td>Belfort</td>\n",
       "      <td>609.0</td>\n",
       "      <td>144483.0</td>\n",
       "      <td>237.1</td>\n",
       "      <td>90 - Territoire de Belfort</td>\n",
       "    </tr>\n",
       "    <tr>\n",
       "      <th>14</th>\n",
       "      <td>15</td>\n",
       "      <td>Cantal</td>\n",
       "      <td>Auvergne-Rhône-Alpes</td>\n",
       "      <td>Aurillac</td>\n",
       "      <td>5726.0</td>\n",
       "      <td>146219.0</td>\n",
       "      <td>25.5</td>\n",
       "      <td>15 - Cantal</td>\n",
       "    </tr>\n",
       "    <tr>\n",
       "      <th>...</th>\n",
       "      <td>...</td>\n",
       "      <td>...</td>\n",
       "      <td>...</td>\n",
       "      <td>...</td>\n",
       "      <td>...</td>\n",
       "      <td>...</td>\n",
       "      <td>...</td>\n",
       "      <td>...</td>\n",
       "    </tr>\n",
       "    <tr>\n",
       "      <th>92</th>\n",
       "      <td>92</td>\n",
       "      <td>Hauts-de-Seine</td>\n",
       "      <td>Ile-de-France</td>\n",
       "      <td>Nanterre</td>\n",
       "      <td>176.0</td>\n",
       "      <td>1601569.0</td>\n",
       "      <td>9120.6</td>\n",
       "      <td>92 - Hauts-de-Seine</td>\n",
       "    </tr>\n",
       "    <tr>\n",
       "      <th>69</th>\n",
       "      <td>69</td>\n",
       "      <td>Rhône</td>\n",
       "      <td>Auvergne-Rhône-Alpes</td>\n",
       "      <td>Lyon</td>\n",
       "      <td>3249.0</td>\n",
       "      <td>1821995.0</td>\n",
       "      <td>560.8</td>\n",
       "      <td>69 - Rhône</td>\n",
       "    </tr>\n",
       "    <tr>\n",
       "      <th>12</th>\n",
       "      <td>13</td>\n",
       "      <td>Bouches-du-Rhône</td>\n",
       "      <td>Provence-Alpes-Côte d'Azur</td>\n",
       "      <td>Marseille</td>\n",
       "      <td>5088.0</td>\n",
       "      <td>2016622.0</td>\n",
       "      <td>396.4</td>\n",
       "      <td>13 - Bouches-du-Rhône</td>\n",
       "    </tr>\n",
       "    <tr>\n",
       "      <th>75</th>\n",
       "      <td>75</td>\n",
       "      <td>Paris</td>\n",
       "      <td>Ile-de-France</td>\n",
       "      <td>Paris</td>\n",
       "      <td>105.0</td>\n",
       "      <td>2206488.0</td>\n",
       "      <td>20934.4</td>\n",
       "      <td>75 - Paris</td>\n",
       "    </tr>\n",
       "    <tr>\n",
       "      <th>59</th>\n",
       "      <td>59</td>\n",
       "      <td>Nord</td>\n",
       "      <td>Hauts-de-France</td>\n",
       "      <td>Lille</td>\n",
       "      <td>5743.0</td>\n",
       "      <td>2605238.0</td>\n",
       "      <td>453.7</td>\n",
       "      <td>59 - Nord</td>\n",
       "    </tr>\n",
       "  </tbody>\n",
       "</table>\n",
       "<p>96 rows × 8 columns</p>\n",
       "</div>"
      ],
      "text/plain": [
       "   NUMÉRO                    NOM                      REGION  CHEF LIEU  \\\n",
       "48     48                 Lozère                   Occitanie      Mende   \n",
       "23     23                 Creuse          Nouvelle-Aquitaine     Guéret   \n",
       "4       5           Hautes-Alpes  Provence-Alpes-Côte d'Azur        Gap   \n",
       "90     90  Territoire de Belfort     Bourgogne-Franche-Comté    Belfort   \n",
       "14     15                 Cantal        Auvergne-Rhône-Alpes   Aurillac   \n",
       "..    ...                    ...                         ...        ...   \n",
       "92     92         Hauts-de-Seine               Ile-de-France   Nanterre   \n",
       "69     69                  Rhône        Auvergne-Rhône-Alpes       Lyon   \n",
       "12     13       Bouches-du-Rhône  Provence-Alpes-Côte d'Azur  Marseille   \n",
       "75     75                  Paris               Ile-de-France      Paris   \n",
       "59     59                   Nord             Hauts-de-France      Lille   \n",
       "\n",
       "    SUPERFICIE (km²)  POPULATION  DENSITE (habitants/km2)  \\\n",
       "48            5167.0     76309.0                     14.8   \n",
       "23            5565.0    120365.0                     21.6   \n",
       "4             5549.0    140916.0                     25.4   \n",
       "90             609.0    144483.0                    237.1   \n",
       "14            5726.0    146219.0                     25.5   \n",
       "..               ...         ...                      ...   \n",
       "92             176.0   1601569.0                   9120.6   \n",
       "69            3249.0   1821995.0                    560.8   \n",
       "12            5088.0   2016622.0                    396.4   \n",
       "75             105.0   2206488.0                  20934.4   \n",
       "59            5743.0   2605238.0                    453.7   \n",
       "\n",
       "                       num_nom  \n",
       "48                 48 - Lozère  \n",
       "23                 23 - Creuse  \n",
       "4             5 - Hautes-Alpes  \n",
       "90  90 - Territoire de Belfort  \n",
       "14                 15 - Cantal  \n",
       "..                         ...  \n",
       "92         92 - Hauts-de-Seine  \n",
       "69                  69 - Rhône  \n",
       "12       13 - Bouches-du-Rhône  \n",
       "75                  75 - Paris  \n",
       "59                   59 - Nord  \n",
       "\n",
       "[96 rows x 8 columns]"
      ]
     },
     "execution_count": 19,
     "metadata": {},
     "output_type": "execute_result"
    }
   ],
   "source": [
    "s_departements"
   ]
  },
  {
   "cell_type": "code",
   "execution_count": 20,
   "id": "hindu-canyon",
   "metadata": {},
   "outputs": [],
   "source": [
    "s_donnees = donnees.sort_values(by=\"P15_POP\")"
   ]
  },
  {
   "cell_type": "code",
   "execution_count": 24,
   "id": "marked-driving",
   "metadata": {},
   "outputs": [
    {
     "data": {
      "image/png": "[encoded data removed]",
      "text/plain": [
       "<Figure size 1800x720 with 1 Axes>"
      ]
     },
     "metadata": {
      "needs_background": "light"
     },
     "output_type": "display_data"
    }
   ],
   "source": [
    "# Population par déparement\n",
    "\n",
    "# dep = donnees[\"DEP\"]\n",
    "# eff = donnees[\"P15_POP\"]\n",
    "# dep = s_donnees[\"DEP\"]\n",
    "# eff = s_donnees[\"P15_POP\"]\n",
    "dep = s_departements[\"NUMÉRO\"].map(str)\n",
    "eff = s_departements[\"POPULATION\"]\n",
    "\n",
    "p1 = plt.bar(dep, eff)\n",
    "\n",
    "plt.xticks(s_departements[\"NUMÉRO\"].map(str), fontsize=9)\n",
    "plt.ylabel('Effectif')\n",
    "plt.title('Population')\n",
    "plt.gcf().set_size_inches(25, 10)\n",
    "#plt.gca().axes.get_xaxis().set_visible(False)\n",
    "# supported formats: eps, pdf, pgf, png, ps, raw, rgba, svg, svgz\n",
    "#plt.savefig('exported_pictures/effectifs_naissances_par_annee.png', dpi=100, bbox_inches = \"tight\") #pdf, svg\n",
    "plt.xticks(rotation=70)\n",
    "plt.show()\n"
   ]
  },
  {
   "cell_type": "code",
   "execution_count": 25,
   "id": "eligible-effort",
   "metadata": {},
   "outputs": [],
   "source": [
    "pop2015 = depart_exag['POPULATION']"
   ]
  },
  {
   "cell_type": "code",
   "execution_count": 26,
   "id": "incomplete-mileage",
   "metadata": {},
   "outputs": [
    {
     "data": {
      "text/plain": [
       "count    9.600000e+01\n",
       "mean     6.698002e+05\n",
       "std      5.112656e+05\n",
       "min      7.630900e+04\n",
       "25%      3.026095e+05\n",
       "50%      5.378090e+05\n",
       "75%      8.431130e+05\n",
       "max      2.605238e+06\n",
       "Name: POPULATION, dtype: float64"
      ]
     },
     "execution_count": 26,
     "metadata": {},
     "output_type": "execute_result"
    }
   ],
   "source": [
    "pop2015.describe()"
   ]
  },
  {
   "cell_type": "code",
   "execution_count": 27,
   "id": "detected-reader",
   "metadata": {},
   "outputs": [
    {
     "data": {
      "text/plain": [
       "0.7633105192524942"
      ]
     },
     "execution_count": 27,
     "metadata": {},
     "output_type": "execute_result"
    }
   ],
   "source": [
    "### Écart type relatif\n",
    "pop2015.std() / pop2015.mean()"
   ]
  },
  {
   "cell_type": "code",
   "execution_count": 28,
   "id": "matched-disability",
   "metadata": {},
   "outputs": [
    {
     "name": "stdout",
     "output_type": "stream",
     "text": [
      "2528929.0\n"
     ]
    },
    {
     "data": {
      "text/plain": [
       "540503.5"
      ]
     },
     "execution_count": 28,
     "metadata": {},
     "output_type": "execute_result"
    }
   ],
   "source": [
    "### étendue\n",
    "print(pop2015.max()-pop2015.min())\n",
    "### écart interquartile\n",
    "pop2015.quantile(0.75) - pop2015.quantile(0.25)"
   ]
  },
  {
   "cell_type": "code",
   "execution_count": 29,
   "id": "terminal-disney",
   "metadata": {},
   "outputs": [
    {
     "data": {
      "text/plain": [
       "<AxesSubplot:>"
      ]
     },
     "execution_count": 29,
     "metadata": {},
     "output_type": "execute_result"
    },
    {
     "data": {
      "image/png": "[encoded data removed]",
      "text/plain": [
       "<Figure size 1152x288 with 1 Axes>"
      ]
     },
     "metadata": {
      "needs_background": "light"
     },
     "output_type": "display_data"
    }
   ],
   "source": [
    "depart_exag.boxplot(column=['POPULATION'], vert=False, figsize=(16,4))"
   ]
  },
  {
   "cell_type": "code",
   "execution_count": null,
   "id": "ignored-roberts",
   "metadata": {},
   "outputs": [],
   "source": []
  }
 ],
 "metadata": {
  "kernelspec": {
   "display_name": "Py 3.8 PySHS",
   "language": "python",
   "name": "py38_pyshs"
  },
  "language_info": {
   "codemirror_mode": {
    "name": "ipython",
    "version": 3
   },
   "file_extension": ".py",
   "mimetype": "text/x-python",
   "name": "python",
   "nbconvert_exporter": "python",
   "pygments_lexer": "ipython3",
   "version": "3.8.8"
  }
 },
 "nbformat": 4,
 "nbformat_minor": 5
}
